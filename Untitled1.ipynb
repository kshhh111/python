{
  "nbformat": 4,
  "nbformat_minor": 0,
  "metadata": {
    "colab": {
      "provenance": [],
      "authorship_tag": "ABX9TyPeLYiWBMX1kiuP0xwnYOIb",
      "include_colab_link": true
    },
    "kernelspec": {
      "name": "python3",
      "display_name": "Python 3"
    },
    "language_info": {
      "name": "python"
    }
  },
  "cells": [
    {
      "cell_type": "markdown",
      "metadata": {
        "id": "view-in-github",
        "colab_type": "text"
      },
      "source": [
        "<a href=\"https://colab.research.google.com/github/kshhh111/python/blob/main/Untitled1.ipynb\" target=\"_parent\"><img src=\"https://colab.research.google.com/assets/colab-badge.svg\" alt=\"Open In Colab\"/></a>"
      ]
    },
    {
      "cell_type": "markdown",
      "source": [
        "\n",
        "\n",
        "```\n",
        "# 코드로 형식 지정됨\n",
        "``` # CH1. 파이썬 문법\n",
        "## 자료형\n",
        "**숫자형**\n",
        " *정수 : 123, 456, 0, -30  \n",
        " *실수 : 12.345, -987.65 , 0.7e6   \n",
        " *8진수 : 0o765, 0o123  \n",
        " *16진수 : 0x0ㅇ, 0x0A, 0xFF  \n",
        "\n",
        "**변수** \n",
        "  *문자 또는 밑줄로 시작 (_KIM, alpha)  \n",
        "  *대소문자 구분(sum, Sum,SUM)\n",
        "  *영문자, 숫자, 밑줄(A-Z, 0-9,_)  \n",
        "  ex) sun_9, Alpha, s9n)\n",
        "  * 파이썬 키워드 (print....)  \n",
        "**표기법**   \n",
        "+ 카멜(낙타) : myName\n",
        "+ 스네이크(뱀) : my_name\n",
        "+ 파스칼 : myName\n",
        "a = 10\n",
        "b = 10\n",
        "f = \"10\"\n",
        "c = a + b\n",
        "print(a,b,c,f)\n",
        "\n"
      ],
      "metadata": {
        "id": "nEtKLL8LiGlF"
      }
    },
    {
      "cell_type": "code",
      "source": [
        "a=10\n",
        "b=3\n",
        "c = a /b\n",
        "d = a // b #몫\n",
        "e = a % b # 나머지\n",
        "print(c,d,e)"
      ],
      "metadata": {
        "colab": {
          "base_uri": "https://localhost:8080/",
          "height": 137
        },
        "id": "PWMdmmkcl0pK",
        "outputId": "9ebce373-5ab5-4869-85d6-3a6557b9a39e"
      },
      "execution_count": null,
      "outputs": [
        {
          "output_type": "error",
          "ename": "SyntaxError",
          "evalue": "ignored",
          "traceback": [
            "\u001b[0;36m  File \u001b[0;32m\"<ipython-input-8-99ec44c999d0>\"\u001b[0;36m, line \u001b[0;32m3\u001b[0m\n\u001b[0;31m    c = a /b \\n\u001b[0m\n\u001b[0m              ^\u001b[0m\n\u001b[0;31mSyntaxError\u001b[0m\u001b[0;31m:\u001b[0m unexpected character after line continuation character\n"
          ]
        }
      ]
    },
    {
      "cell_type": "code",
      "source": [
        "#곱셈\n",
        "a = 10 \n",
        "b = 3\n",
        "c = a * b #일반 곱하기기\n",
        "d = a**b #제곱곱\n",
        "print(c,d)"
      ],
      "metadata": {
        "colab": {
          "base_uri": "https://localhost:8080/"
        },
        "id": "a-c_mKiErc0J",
        "outputId": "ea3dede3-8c4d-4f1b-8d65-635493113089"
      },
      "execution_count": null,
      "outputs": [
        {
          "output_type": "stream",
          "name": "stdout",
          "text": [
            "30 1000\n"
          ]
        }
      ]
    },
    {
      "cell_type": "markdown",
      "source": [
        "#### 문자열 \n",
        "1. 큰따옴표 : \"WOOSEOK KIM\"\n",
        "2. 작은 따옴표 : ' WOOSEOK KIM'\n",
        "3. 큰따옴표 3개 : \"\"\"대한민국\"\"\"\n",
        "4.작은 따옴표 3개 : ''' 대한민국'''\n",
        "5. \"동해물과 백두산이 마르고 닳도록\n",
        "kim\\'s"
      ],
      "metadata": {
        "id": "0vAPjxyuroW-"
      }
    },
    {
      "cell_type": "code",
      "source": [
        "# 변수수\n",
        "myName = \"Kim Woos Seok\"\n",
        "my_name = \"김우석\"\n",
        "_my_name = \"korea\"\n",
        "MYNAME = \"코리아\"\n",
        "my2name = \"KR\"\n",
        "#2myname = \"hahaha\"\n",
        "#my-name = \"dsadas\"\n",
        "#my name = \"space\" \n",
        "myName1 = 1234\n",
        "myName2 = \"1234\"\n",
        "print(type(myName1))\n",
        "print(type(myName2))\n"
      ],
      "metadata": {
        "colab": {
          "base_uri": "https://localhost:8080/"
        },
        "id": "1BboLnblsbc9",
        "outputId": "8661c7e0-570a-4b94-f652-d7198fa6f795"
      },
      "execution_count": null,
      "outputs": [
        {
          "output_type": "stream",
          "name": "stdout",
          "text": [
            "<class 'int'>\n",
            "<class 'str'>\n"
          ]
        }
      ]
    },
    {
      "cell_type": "code",
      "source": [],
      "metadata": {
        "id": "WKLYwsbivEaG"
      },
      "execution_count": null,
      "outputs": []
    },
    {
      "cell_type": "markdown",
      "source": [
        "#변수할당"
      ],
      "metadata": {
        "id": "qnTNtvf0vAab"
      }
    },
    {
      "cell_type": "code",
      "source": [
        "a,b,c = \"딸기\",\"포도\",\"바나나\"\n",
        "print(a)\n",
        "print(b)\n",
        "print(c)"
      ],
      "metadata": {
        "colab": {
          "base_uri": "https://localhost:8080/"
        },
        "id": "Di4nPJg4vFsT",
        "outputId": "1a41489d-bdae-4a9d-f7ef-ad61b6212e0f"
      },
      "execution_count": null,
      "outputs": [
        {
          "output_type": "stream",
          "name": "stdout",
          "text": [
            "딸기\n",
            "포도\n",
            "바나나\n"
          ]
        }
      ]
    },
    {
      "cell_type": "markdown",
      "source": [],
      "metadata": {
        "id": "qBxYP1hiw5O4"
      }
    },
    {
      "cell_type": "code",
      "source": [
        "fruits = [\"누가바\",\"쌍쌍바\",\"보석바\"]\n",
        "x,y,z = fruits\n",
        "print(x)\n",
        "print(y)\n",
        "print(z)"
      ],
      "metadata": {
        "colab": {
          "base_uri": "https://localhost:8080/"
        },
        "id": "pR5VNE_cv7I6",
        "outputId": "927e10f7-f0e4-4dd8-d066-6aef883a1137"
      },
      "execution_count": null,
      "outputs": [
        {
          "output_type": "stream",
          "name": "stdout",
          "text": [
            "누가바\n",
            "쌍쌍바\n",
            "보석바\n"
          ]
        }
      ]
    },
    {
      "cell_type": "code",
      "source": [
        "x = \"Life\"\n",
        "y = \" is\"\n",
        "z = \" beautiful!\"\n",
        "print (x,y,z)\n",
        "print(x+y+z)"
      ],
      "metadata": {
        "colab": {
          "base_uri": "https://localhost:8080/"
        },
        "id": "jIRtAWeXwji3",
        "outputId": "3638f3b3-1305-4a1d-989b-f873458a3f9d"
      },
      "execution_count": null,
      "outputs": [
        {
          "output_type": "stream",
          "name": "stdout",
          "text": [
            "Life  is  beautiful!\n",
            "Life is beautiful!\n"
          ]
        }
      ]
    },
    {
      "cell_type": "code",
      "source": [
        "a = '1'\n",
        "b = '2' d\n",
        "c = '3'\n",
        "print(a+b+c)\n",
        "print(a,b,c)"
      ],
      "metadata": {
        "colab": {
          "base_uri": "https://localhost:8080/"
        },
        "id": "WqSe4d2TxBil",
        "outputId": "ef6912b3-32f9-4ccc-852b-3f4a7a6a8813"
      },
      "execution_count": null,
      "outputs": [
        {
          "output_type": "stream",
          "name": "stdout",
          "text": [
            "123\n",
            "1 2 3\n"
          ]
        }
      ]
    },
    {
      "cell_type": "code",
      "source": [
        "a=1;b=2;c=3;\n",
        "f = a+ b + \\\n",
        "c\n",
        "print(c)"
      ],
      "metadata": {
        "colab": {
          "base_uri": "https://localhost:8080/"
        },
        "id": "kMHp3iAx8hNv",
        "outputId": "14d73938-044d-47ef-896b-139e0b48f6c4"
      },
      "execution_count": null,
      "outputs": [
        {
          "output_type": "stream",
          "name": "stdout",
          "text": [
            "3\n"
          ]
        }
      ]
    },
    {
      "cell_type": "code",
      "source": [
        "#len\n",
        "\n",
        "a = 1,2,3,4,5,6\n",
        "print(len(a))"
      ],
      "metadata": {
        "colab": {
          "base_uri": "https://localhost:8080/"
        },
        "id": "c7KcHKvy8-0o",
        "outputId": "ef21b125-0641-4de4-9911-4944d9857042"
      },
      "execution_count": null,
      "outputs": [
        {
          "output_type": "stream",
          "name": "stdout",
          "text": [
            "6\n"
          ]
        }
      ]
    },
    {
      "cell_type": "code",
      "source": [
        "#len\n",
        "\n",
        "a = \"123456\"\n",
        "b = [2,3,4,5]\n",
        "print(len(a))\n",
        "print(len(b))"
      ],
      "metadata": {
        "colab": {
          "base_uri": "https://localhost:8080/"
        },
        "id": "ayu1fOfS9Nao",
        "outputId": "3c65c7fc-bc19-4dab-c770-2bc530d4501f"
      },
      "execution_count": null,
      "outputs": [
        {
          "output_type": "stream",
          "name": "stdout",
          "text": [
            "6\n",
            "4\n"
          ]
        }
      ]
    },
    {
      "cell_type": "code",
      "source": [
        "a=100\n",
        "b=200\n",
        "result = a+b\n",
        "\n",
        "print( a,'+',b,'=',result)\n",
        "result= a-b\n",
        "print(a, '-', b,'=',result) \n",
        "result = a/ b\n",
        "print(a, '/', b,'=',result) \n",
        "result = a % b\n",
        "print(a, '%', b,'=',result) \n",
        "result = a * b\n",
        "print(a, 'X', b,'=',result) \n",
        "\n",
        "\n"
      ],
      "metadata": {
        "colab": {
          "base_uri": "https://localhost:8080/"
        },
        "id": "RoKtt8Xa9YMn",
        "outputId": "2bb2b647-a91f-4959-a3ce-cb98e33c7a9b"
      },
      "execution_count": null,
      "outputs": [
        {
          "output_type": "stream",
          "name": "stdout",
          "text": [
            "100 + 200 = 300\n",
            "100 - 200 = -100\n",
            "100 / 200 = 0.5\n",
            "100 % 200 = 100\n",
            "100 X 200 = 20000\n"
          ]
        }
      ]
    },
    {
      "cell_type": "code",
      "source": [
        "a = \"1234\"\n",
        "b = 5678\n",
        "c = int(a) + b\n",
        "print(c)"
      ],
      "metadata": {
        "colab": {
          "base_uri": "https://localhost:8080/"
        },
        "id": "WUfYglEkAz2X",
        "outputId": "9ed72484-d940-465c-d3a0-4dc504b18470"
      },
      "execution_count": null,
      "outputs": [
        {
          "output_type": "stream",
          "name": "stdout",
          "text": [
            "6912\n"
          ]
        }
      ]
    },
    {
      "cell_type": "code",
      "source": [
        "# 계산기2 \n",
        "num1 = int(input(\"숫자입력1: \"))\n",
        "num2 = int(input(\"숫자입력2: \"))\n",
        "print(type(num1))\n",
        "\n",
        "result = num1+ num2\n",
        "\n",
        "print(result)"
      ],
      "metadata": {
        "colab": {
          "base_uri": "https://localhost:8080/"
        },
        "id": "wG1ZEtFHBFVH",
        "outputId": "ef10c3dc-4d14-47c6-ef38-0c12e6544441"
      },
      "execution_count": null,
      "outputs": [
        {
          "output_type": "stream",
          "name": "stdout",
          "text": [
            "숫자입력1: 1\n",
            "숫자입력2: 2\n",
            "<class 'int'>\n",
            "3\n"
          ]
        }
      ]
    },
    {
      "cell_type": "code",
      "source": [
        "#계산기3 \n",
        "\n",
        "num1 = int(input(\"숫자 입력1: \"))\n",
        "num2 = int(input(\"숫자 입력2: \"))\n",
        "\n",
        "result = num1 + num2 \n",
        "print( num1 '+' num2 '=' result)\n",
        "\n",
        "\n"
      ],
      "metadata": {
        "id": "B-L87gfiB_dJ"
      },
      "execution_count": null,
      "outputs": []
    },
    {
      "cell_type": "code",
      "source": [
        "char1 = input(\"자기이름: \")\n",
        "num2 = int(input(\"전화번호:  \"))\n",
        "num3 = int(input(\"택배 무게 입력: \"))\n",
        "print(type(char1))\n",
        "print(type(num1))\n",
        "print(type(num2))\n",
        "print(char1)\n",
        "print(num2) \n",
        "\n",
        "killogram = num3 * 100\n",
        "print(num3,'g', '*', 100,'원', '=', killogram,'원')"
      ],
      "metadata": {
        "colab": {
          "base_uri": "https://localhost:8080/"
        },
        "id": "ETO2hPZ9D1h3",
        "outputId": "a3d1d1c6-3d23-4e6a-9d39-4de613053a75"
      },
      "execution_count": null,
      "outputs": [
        {
          "output_type": "stream",
          "name": "stdout",
          "text": [
            "자기이름: 김우석\n",
            "전화번호:  01051893743\n",
            "택배 무게 입력: 200\n",
            "<class 'str'>\n",
            "<class 'int'>\n",
            "<class 'int'>\n",
            "김우석\n",
            "1051893743\n",
            "200 g * 100 원 = 20000 원\n"
          ]
        }
      ]
    },
    {
      "cell_type": "markdown",
      "source": [
        "CH4 조건문, 반복문문"
      ],
      "metadata": {
        "id": "KRKkMWfrsZe_"
      }
    },
    {
      "cell_type": "code",
      "source": [
        "a= int(input(\"숫자 입력: \\t\"))\n",
        "\n",
        "if a>50 :\n",
        "  if a < 100:\n",
        "     print(\"50보다 크고 100보다 작군요.\")\n",
        "  else :\n",
        "     print(\"와~~ 100보다 크군요.\")\n",
        "else : \n",
        "   print(\"에고~50보다 작군요.\")"
      ],
      "metadata": {
        "colab": {
          "base_uri": "https://localhost:8080/"
        },
        "id": "s_OUiJA6sost",
        "outputId": "19c2c2f8-1352-4eeb-9c89-731ecc1b920c"
      },
      "execution_count": null,
      "outputs": [
        {
          "output_type": "stream",
          "name": "stdout",
          "text": [
            "숫자 입력: \t50\n",
            "에고~50보다 작군요.\n"
          ]
        }
      ]
    },
    {
      "cell_type": "code",
      "source": [
        "#성적처리\n",
        "\n",
        "score = int(input(\"점수 입력해 주세용\\t\"))\n",
        "\n",
        "if(score > 100):\n",
        "    print(\"0~100점까지 숫자로 입력하세요\")\n",
        "elif(score >= 90):\n",
        "    print(\"A\", end='')\n",
        "elif(score >= 80):\n",
        "    print(\"B\", end='')\n",
        "elif(score >= 70):\n",
        "    print(\"C\", end='')\n",
        "elif(score >= 60):\n",
        "    print(\"D\", end='')\n",
        "else:\n",
        "  print(\"F\", end='')\n",
        "print(\"학점, %d 점 입니다.\"%score)"
      ],
      "metadata": {
        "colab": {
          "base_uri": "https://localhost:8080/"
        },
        "id": "48UcY9xiswvr",
        "outputId": "92eb834a-2c56-4efe-98da-3b9411517c4a"
      },
      "execution_count": null,
      "outputs": [
        {
          "output_type": "stream",
          "name": "stdout",
          "text": [
            "점수 입력해 주세용\t60\n",
            "D학점, 60 점 입니다.\n"
          ]
        }
      ]
    },
    {
      "cell_type": "code",
      "source": [
        "import random\n",
        "\n",
        "numbers =  []\n",
        "for num in range(0,10):\n",
        "   numbers.append(random.randrange(0,10))\n",
        "\n",
        "print(\"생성된 리스트\", numbers)\n",
        "\n",
        "for num in range(0,10):\n",
        "  if num not in numbers:\n",
        "    print(\"숫자 %d는 리스트에 없다\"%num)\n",
        "  else:\n",
        "    print(\"숫자 %d는 리스트에 있음\"%num)"
      ],
      "metadata": {
        "colab": {
          "base_uri": "https://localhost:8080/"
        },
        "id": "-hje3Pm8vpm_",
        "outputId": "bcb42451-6f4a-43d8-e04d-9b04dce8981e"
      },
      "execution_count": null,
      "outputs": [
        {
          "output_type": "stream",
          "name": "stdout",
          "text": [
            "생성된 리스트 [7, 6, 8, 4, 1, 4, 7, 2, 6, 8]\n",
            "숫자 0는 리스트에 없다\n",
            "숫자 1는 리스트에 있음\n",
            "숫자 2는 리스트에 있음\n",
            "숫자 3는 리스트에 없다\n",
            "숫자 4는 리스트에 있음\n",
            "숫자 5는 리스트에 없다\n",
            "숫자 6는 리스트에 있음\n",
            "숫자 7는 리스트에 있음\n",
            "숫자 8는 리스트에 있음\n",
            "숫자 9는 리스트에 없다\n"
          ]
        }
      ]
    },
    {
      "cell_type": "code",
      "source": [
        "#조건문 이용, eval()\n",
        "select, answer, num1, num2 , numStr = 0,0,0,0,\"\"\n",
        "\n",
        "select  = int(input(\"1.입력한 수식계산 , 2.두수의 합 \\n\"))\n",
        "\n",
        "if(select == 1):\n",
        "  numStr = input(\"수식을 입력하세요(ex: 1+2): \\t\")\n",
        "  answer = eval(numStr) #1+2, \"s\"+\"t\"\n",
        "  print(\"%s 결과는 %5.1f입니다.\" %(numStr,answer))\n",
        "\n",
        "if(select==2):\n",
        "  num1 = int(input(\"*첫번째 숫자를 입력하세요: \\t\"))\n",
        "  num2 = int(input(\"*두번째 숫자를 입력하세요: \\t\"))\n",
        "  for k in range(num1,num2+1):\n",
        "    answer = answer + k\n",
        "  print(\"%d+...+%d는 %d입니다.\" %(num1,num2,answer))\n",
        "\n",
        "else:\n",
        "  print(\"1 또는 2만 입력하세요.\")\n"
      ],
      "metadata": {
        "colab": {
          "base_uri": "https://localhost:8080/"
        },
        "id": "dKHNqqb_t9FG",
        "outputId": "8b1f3181-5af5-45df-cfcf-dcb7d8733b70"
      },
      "execution_count": null,
      "outputs": [
        {
          "output_type": "stream",
          "name": "stdout",
          "text": [
            "1.입력한 수식계산 , 2.두수의 합 \n",
            "1\n",
            "수식을 입력하세요(ex: 1+2): \t3+4\n",
            "3+4 결과는   7.0입니다.\n",
            "1 또는 2만 입력하세요.\n"
          ]
        }
      ]
    },
    {
      "cell_type": "markdown",
      "source": [
        "## 2 반복문 for & whiile"
      ],
      "metadata": {
        "id": "1E2W02er69eB"
      }
    },
    {
      "cell_type": "code",
      "source": [
        "for i in range(0,3,1): ##시작값,끝값,1씩 증가\n",
        "  print(\"안녕!! %d\" %i)"
      ],
      "metadata": {
        "colab": {
          "base_uri": "https://localhost:8080/"
        },
        "id": "ts0_mu1y7CQr",
        "outputId": "0939173f-4a84-453f-e69b-87002b066277"
      },
      "execution_count": null,
      "outputs": [
        {
          "output_type": "stream",
          "name": "stdout",
          "text": [
            "안녕!! 0\n",
            "안녕!! 1\n",
            "안녕!! 2\n"
          ]
        }
      ]
    },
    {
      "cell_type": "code",
      "source": [
        "for i in [0,3,1]: ## list\n",
        "  print(\"안녕!! %d\" %i)"
      ],
      "metadata": {
        "colab": {
          "base_uri": "https://localhost:8080/"
        },
        "id": "mmWocS817Z7X",
        "outputId": "0f32d1c6-ec6f-4dcc-94e5-f7910a1c9796"
      },
      "execution_count": null,
      "outputs": [
        {
          "output_type": "stream",
          "name": "stdout",
          "text": [
            "안녕!! 0\n",
            "안녕!! 3\n",
            "안녕!! 1\n"
          ]
        }
      ]
    },
    {
      "cell_type": "code",
      "source": [
        "for i in range(0,3,1):\n",
        "  for j in range(0,2,1):\n",
        "    for k in range(0,2,1):\n",
        "      print(\"i:%d, j:%d, k:%d\" %(i,j,k))"
      ],
      "metadata": {
        "colab": {
          "base_uri": "https://localhost:8080/"
        },
        "id": "UQpxMgeV8F_A",
        "outputId": "fe9faf4d-e013-4513-a0a0-36f099e63f58"
      },
      "execution_count": null,
      "outputs": [
        {
          "output_type": "stream",
          "name": "stdout",
          "text": [
            "i:0, j:0, k:0\n",
            "i:0, j:0, k:1\n",
            "i:0, j:1, k:0\n",
            "i:0, j:1, k:1\n",
            "i:1, j:0, k:0\n",
            "i:1, j:0, k:1\n",
            "i:1, j:1, k:0\n",
            "i:1, j:1, k:1\n",
            "i:2, j:0, k:0\n",
            "i:2, j:0, k:1\n",
            "i:2, j:1, k:0\n",
            "i:2, j:1, k:1\n"
          ]
        }
      ]
    },
    {
      "cell_type": "code",
      "source": [
        "i,j=0,0\n",
        "for i in range(2,10,1):\n",
        " for j in range(1,10,1):\n",
        "   print(\"%d x %d=%2d\\t \"%(i,j,i*j),end='')\n",
        " print(\"\")"
      ],
      "metadata": {
        "colab": {
          "base_uri": "https://localhost:8080/"
        },
        "id": "0WVC-33J8gl6",
        "outputId": "29ea4b5b-8118-4ad2-8fae-8e3b83e874d2"
      },
      "execution_count": null,
      "outputs": [
        {
          "output_type": "stream",
          "name": "stdout",
          "text": [
            "2 x 1= 2\t 2 x 2= 4\t 2 x 3= 6\t 2 x 4= 8\t 2 x 5=10\t 2 x 6=12\t 2 x 7=14\t 2 x 8=16\t 2 x 9=18\t \n",
            "3 x 1= 3\t 3 x 2= 6\t 3 x 3= 9\t 3 x 4=12\t 3 x 5=15\t 3 x 6=18\t 3 x 7=21\t 3 x 8=24\t 3 x 9=27\t \n",
            "4 x 1= 4\t 4 x 2= 8\t 4 x 3=12\t 4 x 4=16\t 4 x 5=20\t 4 x 6=24\t 4 x 7=28\t 4 x 8=32\t 4 x 9=36\t \n",
            "5 x 1= 5\t 5 x 2=10\t 5 x 3=15\t 5 x 4=20\t 5 x 5=25\t 5 x 6=30\t 5 x 7=35\t 5 x 8=40\t 5 x 9=45\t \n",
            "6 x 1= 6\t 6 x 2=12\t 6 x 3=18\t 6 x 4=24\t 6 x 5=30\t 6 x 6=36\t 6 x 7=42\t 6 x 8=48\t 6 x 9=54\t \n",
            "7 x 1= 7\t 7 x 2=14\t 7 x 3=21\t 7 x 4=28\t 7 x 5=35\t 7 x 6=42\t 7 x 7=49\t 7 x 8=56\t 7 x 9=63\t \n",
            "8 x 1= 8\t 8 x 2=16\t 8 x 3=24\t 8 x 4=32\t 8 x 5=40\t 8 x 6=48\t 8 x 7=56\t 8 x 8=64\t 8 x 9=72\t \n",
            "9 x 1= 9\t 9 x 2=18\t 9 x 3=27\t 9 x 4=36\t 9 x 5=45\t 9 x 6=54\t 9 x 7=63\t 9 x 8=72\t 9 x 9=81\t \n"
          ]
        }
      ]
    },
    {
      "cell_type": "code",
      "source": [
        "# while 문\n",
        "j = 0\n",
        "while j<3:\n",
        "    print (\"%d : while문\" %j)\n",
        "    j = j + 1 "
      ],
      "metadata": {
        "colab": {
          "base_uri": "https://localhost:8080/"
        },
        "id": "9HjC1Byn9Y8i",
        "outputId": "76eec377-ba7e-40c1-92aa-079728788521"
      },
      "execution_count": null,
      "outputs": [
        {
          "output_type": "stream",
          "name": "stdout",
          "text": [
            "0 : while문\n",
            "1 : while문\n",
            "2 : while문\n"
          ]
        }
      ]
    },
    {
      "cell_type": "markdown",
      "source": [
        "## Q : for , while 1~10 까지의 합을 구하는 코드를 작성하시오 . "
      ],
      "metadata": {
        "id": "-PIEFaR9-gYu"
      }
    },
    {
      "cell_type": "code",
      "source": [
        "\n",
        "total = 0\n",
        "for i in range(1, 11):\n",
        "    total += i\n",
        "\n",
        "print(\"for문을 사용한 합계:\", total)\n",
        "\n",
        "\n"
      ],
      "metadata": {
        "colab": {
          "base_uri": "https://localhost:8080/"
        },
        "id": "t1Www0H6-m16",
        "outputId": "f8a4e3f1-f788-413d-d846-e97a3a8fe3d9"
      },
      "execution_count": null,
      "outputs": [
        {
          "output_type": "stream",
          "name": "stdout",
          "text": [
            "for문을 사용한 합계: 55\n"
          ]
        }
      ]
    },
    {
      "cell_type": "code",
      "source": [
        "total = 0\n",
        "i = 1\n",
        "\n",
        "while i <= 11:\n",
        "    total += i\n",
        "    i += 1\n",
        "\n",
        "print(\"while문을 사용한 합계:\", total)"
      ],
      "metadata": {
        "colab": {
          "base_uri": "https://localhost:8080/"
        },
        "id": "mSYXlDvv_Ltc",
        "outputId": "97522ef5-8fb6-48a9-b7ec-3ce6c451d9cb"
      },
      "execution_count": null,
      "outputs": [
        {
          "output_type": "stream",
          "name": "stdout",
          "text": [
            "while문을 사용한 합계: 66\n"
          ]
        }
      ]
    },
    {
      "cell_type": "code",
      "source": [
        "while True:\n",
        "  print(\"무한 루프\", end='')\n",
        "  break\n"
      ],
      "metadata": {
        "colab": {
          "base_uri": "https://localhost:8080/"
        },
        "id": "yXgSY_WBBhZm",
        "outputId": "90cc9d11-6c9f-4f4d-e78f-00043b9afcbe"
      },
      "execution_count": null,
      "outputs": [
        {
          "output_type": "stream",
          "name": "stdout",
          "text": [
            "무한 루프"
          ]
        }
      ]
    },
    {
      "cell_type": "markdown",
      "source": [
        "3.continue,Break"
      ],
      "metadata": {
        "id": "bx1CVJPeCXG8"
      }
    },
    {
      "cell_type": "code",
      "source": [
        "#break \n",
        "for i in range(1,100):\n",
        "  print(\"for 문 %d번 실행\"%i)\n",
        "  break\n",
        "  print(\"break 아래\")\n",
        "print(\"break 빠짐\")"
      ],
      "metadata": {
        "id": "UiUwfsMfCL6T",
        "colab": {
          "base_uri": "https://localhost:8080/"
        },
        "outputId": "ab2812e4-fbba-4013-ab48-146750a897d7"
      },
      "execution_count": null,
      "outputs": [
        {
          "output_type": "stream",
          "name": "stdout",
          "text": [
            "for 문 1번 실행\n",
            "break 빠짐\n"
          ]
        }
      ]
    },
    {
      "cell_type": "code",
      "source": [
        "hap = 0\n",
        "a,b = 0,0\n",
        "while True:\n",
        "  a=int (input(\"덧셈을 위한 첫번째 수 : \\t\"))\n",
        "  if a==0:\n",
        "    break\n",
        "  b=int (input(\"덧셈을 위한 두번째 수 : \\t\"))\n",
        "  hap = a+b \n",
        "  print(\"%d + %d = %d\"%(a,b,hap))\n",
        "\n",
        "print(\"break 로 탈출\")"
      ],
      "metadata": {
        "colab": {
          "base_uri": "https://localhost:8080/"
        },
        "id": "WjVWMrEBIO2K",
        "outputId": "2023676a-37b4-444d-fa0f-18e223d52601"
      },
      "execution_count": null,
      "outputs": [
        {
          "output_type": "stream",
          "name": "stdout",
          "text": [
            "덧셈을 위한 첫번째 수 : \t10\n",
            "덧셈을 위한 두번째 수 : \t20\n",
            "10 + 20 = 30\n",
            "덧셈을 위한 첫번째 수 : \t0\n",
            "break 로 탈출\n"
          ]
        }
      ]
    },
    {
      "cell_type": "code",
      "source": [
        "# continue\n",
        "hap, i = 0,0\n",
        "for i in range(1,11):\n",
        "  if i%2 == 0:\n",
        "    print(\"i:%d\" %i)\n",
        "    continue #\n",
        "  hap += i \n",
        "\n",
        "print(\"1~10(2의 배수 제외): %d\"%hap)\n",
        "\n"
      ],
      "metadata": {
        "colab": {
          "base_uri": "https://localhost:8080/"
        },
        "id": "Kq0hlLHxJKSf",
        "outputId": "0aced567-0d2c-43e9-bffc-374331057ce0"
      },
      "execution_count": null,
      "outputs": [
        {
          "output_type": "stream",
          "name": "stdout",
          "text": [
            "i:2\n",
            "i:4\n",
            "i:6\n",
            "i:8\n",
            "i:10\n",
            "1~10(2의 배수 제외): 25\n"
          ]
        }
      ]
    },
    {
      "cell_type": "code",
      "source": [
        "fruits = [\"감\",\"밤\",\"대추\"]\n",
        "for x in fruits:\n",
        "   if x =  \"밤\":\n",
        "      continue\n",
        "   print(x)"
      ],
      "metadata": {
        "colab": {
          "base_uri": "https://localhost:8080/",
          "height": 137
        },
        "id": "poYiUQzjL4hq",
        "outputId": "548fdc5f-a4db-45bf-9795-e4612ccce99b"
      },
      "execution_count": null,
      "outputs": [
        {
          "output_type": "error",
          "ename": "SyntaxError",
          "evalue": "ignored",
          "traceback": [
            "\u001b[0;36m  File \u001b[0;32m\"<ipython-input-47-cf689928dba7>\"\u001b[0;36m, line \u001b[0;32m3\u001b[0m\n\u001b[0;31m    if x =  \"밤\":\u001b[0m\n\u001b[0m         ^\u001b[0m\n\u001b[0;31mSyntaxError\u001b[0m\u001b[0;31m:\u001b[0m invalid syntax\n"
          ]
        }
      ]
    },
    {
      "cell_type": "code",
      "source": [
        "for x in range(6):\n",
        "   if x == 3: break\n",
        "   print(x)\n",
        "else:\n",
        "     print(\"끝\")"
      ],
      "metadata": {
        "colab": {
          "base_uri": "https://localhost:8080/"
        },
        "id": "lfbypV-FL7uY",
        "outputId": "4c09a064-2d28-4ec8-8e43-90bd4f368b4d"
      },
      "execution_count": null,
      "outputs": [
        {
          "output_type": "stream",
          "name": "stdout",
          "text": [
            "0\n",
            "1\n",
            "2\n"
          ]
        }
      ]
    },
    {
      "cell_type": "code",
      "source": [
        "# pass for문에 적합한 조건함수를 쓰지않은 상태에서서 에러를 피하기 위해 실행하지 않음\n",
        "for x in[0,1,2]:\n",
        "  pass "
      ],
      "metadata": {
        "id": "kbzQJc5xM6PA"
      },
      "execution_count": null,
      "outputs": []
    },
    {
      "cell_type": "markdown",
      "source": [
        "## 4. 함수\n"
      ],
      "metadata": {
        "id": "H0HEKFOQNTwe"
      }
    },
    {
      "cell_type": "code",
      "source": [
        "##함수\n",
        "def plus(v1,v2) :   ##두개의 매계변수를 받아 더해서 돌려주는함수수     ##define\n",
        "  result = 0\n",
        "  result = v1 + v2\n",
        "  return result\n",
        "\n",
        "#메인\n",
        "hap = 0\n",
        "hap = plus(1,2) ##1,2 를 위 v1과 v2에 넣어   result에 더한값을 넣음음\n",
        "print(\"1+2 = %d\" %hap)\n",
        "hap = plus(4,8)\n",
        "print(\"4+8 = %d\" %hap)"
      ],
      "metadata": {
        "colab": {
          "base_uri": "https://localhost:8080/"
        },
        "id": "d7KdEYMCNO4A",
        "outputId": "74404ab7-e4ff-4211-ceab-724432534cfe"
      },
      "execution_count": null,
      "outputs": [
        {
          "output_type": "stream",
          "name": "stdout",
          "text": [
            "1+2 = 3\n",
            "4+8 = 12\n"
          ]
        }
      ]
    },
    {
      "cell_type": "code",
      "source": [
        "# 계산기\n",
        "def calc (v1,v2,op):\n",
        "  result = 0\n",
        "  if op=='+':\n",
        "    result = v1 + v2\n",
        "  elif op=='-':\n",
        "    result = v1 - v2\n",
        "  elif op=='/':\n",
        "    result = v1 / v2 \n",
        "  elif op=='*':\n",
        "    result = v1 * v2 \n",
        "  return result\n",
        "\n",
        "rst = 0\n",
        "var1,var2,opr = 0,0,\"\"\n",
        "\n",
        "opr = input(\"(+,-,/,*)입력: \")\n",
        "var1 = int(input(\"1번째 숫자 입력: \\t\"))\n",
        "var2 = int(input(\"2번째 숫자 입력: \\t\"))\n",
        "\n",
        "rst = calc(var1,var2,opr)\n",
        "print(\"계산결과 : %d %s %d = %.2f\" %(var1,opr,var2,rst))\n"
      ],
      "metadata": {
        "colab": {
          "base_uri": "https://localhost:8080/",
          "height": 400
        },
        "id": "7IJmglmEO9yl",
        "outputId": "bb846730-8bbd-4b63-e927-a0c0f27dcc2b"
      },
      "execution_count": null,
      "outputs": [
        {
          "output_type": "error",
          "ename": "KeyboardInterrupt",
          "evalue": "ignored",
          "traceback": [
            "\u001b[0;31m---------------------------------------------------------------------------\u001b[0m",
            "\u001b[0;31mKeyboardInterrupt\u001b[0m                         Traceback (most recent call last)",
            "\u001b[0;32m<ipython-input-62-30f7ff80613a>\u001b[0m in \u001b[0;36m<cell line: 17>\u001b[0;34m()\u001b[0m\n\u001b[1;32m     15\u001b[0m \u001b[0mvar1\u001b[0m\u001b[0;34m,\u001b[0m\u001b[0mvar2\u001b[0m\u001b[0;34m,\u001b[0m\u001b[0mopr\u001b[0m \u001b[0;34m=\u001b[0m \u001b[0;36m0\u001b[0m\u001b[0;34m,\u001b[0m\u001b[0;36m0\u001b[0m\u001b[0;34m,\u001b[0m\u001b[0;34m\"\"\u001b[0m\u001b[0;34m\u001b[0m\u001b[0;34m\u001b[0m\u001b[0m\n\u001b[1;32m     16\u001b[0m \u001b[0;34m\u001b[0m\u001b[0m\n\u001b[0;32m---> 17\u001b[0;31m \u001b[0mopr\u001b[0m \u001b[0;34m=\u001b[0m \u001b[0minput\u001b[0m\u001b[0;34m(\u001b[0m\u001b[0;34m\"(+,-,/,*)입력: \"\u001b[0m\u001b[0;34m)\u001b[0m\u001b[0;34m\u001b[0m\u001b[0;34m\u001b[0m\u001b[0m\n\u001b[0m\u001b[1;32m     18\u001b[0m \u001b[0mvar1\u001b[0m \u001b[0;34m=\u001b[0m \u001b[0mint\u001b[0m\u001b[0;34m(\u001b[0m\u001b[0minput\u001b[0m\u001b[0;34m(\u001b[0m\u001b[0;34m\"1번째 숫자 입력: \\t\"\u001b[0m\u001b[0;34m)\u001b[0m\u001b[0;34m)\u001b[0m\u001b[0;34m\u001b[0m\u001b[0;34m\u001b[0m\u001b[0m\n\u001b[1;32m     19\u001b[0m \u001b[0mvar2\u001b[0m \u001b[0;34m=\u001b[0m \u001b[0mint\u001b[0m\u001b[0;34m(\u001b[0m\u001b[0minput\u001b[0m\u001b[0;34m(\u001b[0m\u001b[0;34m\"2번째 숫자 입력: \\t\"\u001b[0m\u001b[0;34m)\u001b[0m\u001b[0;34m)\u001b[0m\u001b[0;34m\u001b[0m\u001b[0;34m\u001b[0m\u001b[0m\n",
            "\u001b[0;32m/usr/local/lib/python3.9/dist-packages/ipykernel/kernelbase.py\u001b[0m in \u001b[0;36mraw_input\u001b[0;34m(self, prompt)\u001b[0m\n\u001b[1;32m    849\u001b[0m                 \u001b[0;34m\"raw_input was called, but this frontend does not support input requests.\"\u001b[0m\u001b[0;34m\u001b[0m\u001b[0;34m\u001b[0m\u001b[0m\n\u001b[1;32m    850\u001b[0m             )\n\u001b[0;32m--> 851\u001b[0;31m         return self._input_request(str(prompt),\n\u001b[0m\u001b[1;32m    852\u001b[0m             \u001b[0mself\u001b[0m\u001b[0;34m.\u001b[0m\u001b[0m_parent_ident\u001b[0m\u001b[0;34m,\u001b[0m\u001b[0;34m\u001b[0m\u001b[0;34m\u001b[0m\u001b[0m\n\u001b[1;32m    853\u001b[0m             \u001b[0mself\u001b[0m\u001b[0;34m.\u001b[0m\u001b[0m_parent_header\u001b[0m\u001b[0;34m,\u001b[0m\u001b[0;34m\u001b[0m\u001b[0;34m\u001b[0m\u001b[0m\n",
            "\u001b[0;32m/usr/local/lib/python3.9/dist-packages/ipykernel/kernelbase.py\u001b[0m in \u001b[0;36m_input_request\u001b[0;34m(self, prompt, ident, parent, password)\u001b[0m\n\u001b[1;32m    893\u001b[0m             \u001b[0;32mexcept\u001b[0m \u001b[0mKeyboardInterrupt\u001b[0m\u001b[0;34m:\u001b[0m\u001b[0;34m\u001b[0m\u001b[0;34m\u001b[0m\u001b[0m\n\u001b[1;32m    894\u001b[0m                 \u001b[0;31m# re-raise KeyboardInterrupt, to truncate traceback\u001b[0m\u001b[0;34m\u001b[0m\u001b[0;34m\u001b[0m\u001b[0m\n\u001b[0;32m--> 895\u001b[0;31m                 \u001b[0;32mraise\u001b[0m \u001b[0mKeyboardInterrupt\u001b[0m\u001b[0;34m(\u001b[0m\u001b[0;34m\"Interrupted by user\"\u001b[0m\u001b[0;34m)\u001b[0m \u001b[0;32mfrom\u001b[0m \u001b[0;32mNone\u001b[0m\u001b[0;34m\u001b[0m\u001b[0;34m\u001b[0m\u001b[0m\n\u001b[0m\u001b[1;32m    896\u001b[0m             \u001b[0;32mexcept\u001b[0m \u001b[0mException\u001b[0m \u001b[0;32mas\u001b[0m \u001b[0me\u001b[0m\u001b[0;34m:\u001b[0m\u001b[0;34m\u001b[0m\u001b[0;34m\u001b[0m\u001b[0m\n\u001b[1;32m    897\u001b[0m                 \u001b[0mself\u001b[0m\u001b[0;34m.\u001b[0m\u001b[0mlog\u001b[0m\u001b[0;34m.\u001b[0m\u001b[0mwarning\u001b[0m\u001b[0;34m(\u001b[0m\u001b[0;34m\"Invalid Message:\"\u001b[0m\u001b[0;34m,\u001b[0m \u001b[0mexc_info\u001b[0m\u001b[0;34m=\u001b[0m\u001b[0;32mTrue\u001b[0m\u001b[0;34m)\u001b[0m\u001b[0;34m\u001b[0m\u001b[0;34m\u001b[0m\u001b[0m\n",
            "\u001b[0;31mKeyboardInterrupt\u001b[0m: Interrupted by user"
          ]
        }
      ]
    },
    {
      "cell_type": "markdown",
      "source": [
        "## Q : 0 으로 나누면 메시지  출력, 계산되지 않고, \n",
        "제곱(**) 연산자 기능 추가 , (숫자 1,연산자 , 숫자 2) 순서로 입력하게 변경경"
      ],
      "metadata": {
        "id": "lReEskElRWqh"
      }
    },
    {
      "cell_type": "code",
      "source": [
        "def calc(v1, v2, op):\n",
        "    result = 0\n",
        "    if op == '+':\n",
        "        result = v1 + v2\n",
        "    elif op == '-':\n",
        "        result = v1 - v2\n",
        "    elif op == '/':\n",
        "        result = v1 / v2 \n",
        "    elif op == '*':\n",
        "        result = v1 * v2 \n",
        "    elif op == '**':\n",
        "        result = v1 ** v2\n",
        "    return result\n",
        "\n",
        "rst = 0\n",
        "var1, var2, opr = 0, 0, \"\"\n",
        "\n",
        "var1 = int(input(\"1번째 숫자 입력: \"))\n",
        "if var1 == 0:\n",
        "    print(\"0을 입력하지 마세요.\")\n",
        "    exit()\n",
        "\n",
        "opr = input(\"(+,-,/,*) 입력: \")\n",
        "\n",
        "var2 = int(input(\"2번째 숫자 입력: \"))\n",
        "if var2 == 0:\n",
        "    print(\"0을 입력하지 마세요.\")\n",
        "    exit()\n",
        "\n",
        "rst = calc(var1, var2, opr)\n",
        "\n",
        "if rst == 0:\n",
        "    print(\"0으로 나눌 수 없습니다.\")\n",
        "else:\n",
        "    print(\"계산결과: %d %s %d = %.2f\" % (var1, opr, var2, rst))"
      ],
      "metadata": {
        "colab": {
          "base_uri": "https://localhost:8080/"
        },
        "id": "yiPf9mMVRdFo",
        "outputId": "53f0f932-b1cc-4fb4-c6c2-1a4c221ada95"
      },
      "execution_count": null,
      "outputs": [
        {
          "output_type": "stream",
          "name": "stdout",
          "text": [
            "1번째 숫자 입력: 30\n",
            "(+,-,/,*) 입력: +\n",
            "2번째 숫자 입력: 4\n",
            "계산결과: 30 + 4 = 34.00\n"
          ]
        }
      ]
    },
    {
      "cell_type": "markdown",
      "source": [
        "# ch5 파일 처리\n",
        "\"r\"-read, \"w\"-write, \"a\"-append, \n",
        "\"x\"-create, \"t\"-text, \"b\"-binary "
      ],
      "metadata": {
        "id": "JKKUgpGwtIO-"
      }
    },
    {
      "cell_type": "code",
      "source": [
        "#file wirte\n",
        "from google.colab import files\n",
        "f = open (\"a.txt\", 'w')\n",
        "f.write(\"123456\")\n",
        "f.close()\n",
        "files.download('a.txt')"
      ],
      "metadata": {
        "colab": {
          "base_uri": "https://localhost:8080/",
          "height": 17
        },
        "id": "S039zI6WtHQZ",
        "outputId": "156d641d-3c2c-4f9b-a562-398de61dd32e"
      },
      "execution_count": null,
      "outputs": [
        {
          "output_type": "display_data",
          "data": {
            "text/plain": [
              "<IPython.core.display.Javascript object>"
            ],
            "application/javascript": [
              "\n",
              "    async function download(id, filename, size) {\n",
              "      if (!google.colab.kernel.accessAllowed) {\n",
              "        return;\n",
              "      }\n",
              "      const div = document.createElement('div');\n",
              "      const label = document.createElement('label');\n",
              "      label.textContent = `Downloading \"${filename}\": `;\n",
              "      div.appendChild(label);\n",
              "      const progress = document.createElement('progress');\n",
              "      progress.max = size;\n",
              "      div.appendChild(progress);\n",
              "      document.body.appendChild(div);\n",
              "\n",
              "      const buffers = [];\n",
              "      let downloaded = 0;\n",
              "\n",
              "      const channel = await google.colab.kernel.comms.open(id);\n",
              "      // Send a message to notify the kernel that we're ready.\n",
              "      channel.send({})\n",
              "\n",
              "      for await (const message of channel.messages) {\n",
              "        // Send a message to notify the kernel that we're ready.\n",
              "        channel.send({})\n",
              "        if (message.buffers) {\n",
              "          for (const buffer of message.buffers) {\n",
              "            buffers.push(buffer);\n",
              "            downloaded += buffer.byteLength;\n",
              "            progress.value = downloaded;\n",
              "          }\n",
              "        }\n",
              "      }\n",
              "      const blob = new Blob(buffers, {type: 'application/binary'});\n",
              "      const a = document.createElement('a');\n",
              "      a.href = window.URL.createObjectURL(blob);\n",
              "      a.download = filename;\n",
              "      div.appendChild(a);\n",
              "      a.click();\n",
              "      div.remove();\n",
              "    }\n",
              "  "
            ]
          },
          "metadata": {}
        },
        {
          "output_type": "display_data",
          "data": {
            "text/plain": [
              "<IPython.core.display.Javascript object>"
            ],
            "application/javascript": [
              "download(\"download_d79fed3f-14e8-45e4-9609-8b645b4cf14e\", \"a.txt\", 6)"
            ]
          },
          "metadata": {}
        }
      ]
    },
    {
      "cell_type": "code",
      "source": [
        "# file read \n",
        "from google.colab import files\n",
        "\n",
        "f= open(\"a.txt\",'r')\n",
        "f.read"
      ],
      "metadata": {
        "id": "XvOyEBLFuh2z"
      },
      "execution_count": null,
      "outputs": []
    },
    {
      "cell_type": "code",
      "source": [
        "for i in range(1,11,1):\n",
        "\n",
        "  print (i)"
      ],
      "metadata": {
        "colab": {
          "base_uri": "https://localhost:8080/"
        },
        "id": "JDkXUSJkAhJ5",
        "outputId": "889f3fea-7f02-4fc2-a7e6-8e4a5c055efd"
      },
      "execution_count": null,
      "outputs": [
        {
          "output_type": "stream",
          "name": "stdout",
          "text": [
            "1\n",
            "2\n",
            "3\n",
            "4\n",
            "5\n",
            "6\n",
            "7\n",
            "8\n",
            "9\n",
            "10\n"
          ]
        }
      ]
    },
    {
      "cell_type": "code",
      "source": [
        "i = list(range(10+1))\n",
        "print(i)"
      ],
      "metadata": {
        "colab": {
          "base_uri": "https://localhost:8080/"
        },
        "id": "mNDmtTrxBf6q",
        "outputId": "70fd5a21-5ff7-4eef-f7ce-ddfc0e0f329d"
      },
      "execution_count": null,
      "outputs": [
        {
          "output_type": "stream",
          "name": "stdout",
          "text": [
            "[0, 1, 2, 3, 4, 5, 6, 7, 8, 9, 10]\n"
          ]
        }
      ]
    }
  ]
}