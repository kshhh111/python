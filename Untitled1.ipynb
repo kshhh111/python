{
  "nbformat": 4,
  "nbformat_minor": 0,
  "metadata": {
    "colab": {
      "provenance": [],
      "authorship_tag": "ABX9TyMXPHCPliuXWnJJDkSBZKgo",
      "include_colab_link": true
    },
    "kernelspec": {
      "name": "python3",
      "display_name": "Python 3"
    },
    "language_info": {
      "name": "python"
    }
  },
  "cells": [
    {
      "cell_type": "markdown",
      "metadata": {
        "id": "view-in-github",
        "colab_type": "text"
      },
      "source": [
        "<a href=\"https://colab.research.google.com/github/kshhh111/python/blob/main/Untitled1.ipynb\" target=\"_parent\"><img src=\"https://colab.research.google.com/assets/colab-badge.svg\" alt=\"Open In Colab\"/></a>"
      ]
    },
    {
      "cell_type": "markdown",
      "source": [
        "\n",
        "\n",
        "```\n",
        "# 코드로 형식 지정됨\n",
        "``` # CH1. 파이썬 문법\n",
        "## 자료형\n",
        "**숫자형**\n",
        " *정수 : 123, 456, 0, -30  \n",
        " *실수 : 12.345, -987.65 , 0.7e6   \n",
        " *8진수 : 0o765, 0o123  \n",
        " *16진수 : 0x0ㅇ, 0x0A, 0xFF  \n",
        "\n",
        "**변수** \n",
        "  *문자 또는 밑줄로 시작 (_KIM, alpha)  \n",
        "  *대소문자 구분(sum, Sum,SUM)\n",
        "  *영문자, 숫자, 밑줄(A-Z, 0-9,_)  \n",
        "  ex) sun_9, Alpha, s9n)\n",
        "  * 파이썬 키워드 (print....)  \n",
        "**표기법**   \n",
        "+ 카멜(낙타) : myName\n",
        "+ 스네이크(뱀) : my_name\n",
        "+ 파스칼 : myName\n",
        "a = 10\n",
        "b = 10\n",
        "f = \"10\"\n",
        "c = a + b\n",
        "print(a,b,c,f)\n",
        "\n"
      ],
      "metadata": {
        "id": "nEtKLL8LiGlF"
      }
    },
    {
      "cell_type": "code",
      "source": [
        "a=10\n",
        "b=3\n",
        "c = a /b\n",
        "d = a // b #몫\n",
        "e = a % b # 나머지\n",
        "print(c,d,e)"
      ],
      "metadata": {
        "colab": {
          "base_uri": "https://localhost:8080/",
          "height": 137
        },
        "id": "PWMdmmkcl0pK",
        "outputId": "9ebce373-5ab5-4869-85d6-3a6557b9a39e"
      },
      "execution_count": null,
      "outputs": [
        {
          "output_type": "error",
          "ename": "SyntaxError",
          "evalue": "ignored",
          "traceback": [
            "\u001b[0;36m  File \u001b[0;32m\"<ipython-input-8-99ec44c999d0>\"\u001b[0;36m, line \u001b[0;32m3\u001b[0m\n\u001b[0;31m    c = a /b \\n\u001b[0m\n\u001b[0m              ^\u001b[0m\n\u001b[0;31mSyntaxError\u001b[0m\u001b[0;31m:\u001b[0m unexpected character after line continuation character\n"
          ]
        }
      ]
    },
    {
      "cell_type": "code",
      "source": [
        "#곱셈\n",
        "a = 10 \n",
        "b = 3\n",
        "c = a * b #일반 곱하기기\n",
        "d = a**b #제곱곱\n",
        "print(c,d)"
      ],
      "metadata": {
        "colab": {
          "base_uri": "https://localhost:8080/"
        },
        "id": "a-c_mKiErc0J",
        "outputId": "ea3dede3-8c4d-4f1b-8d65-635493113089"
      },
      "execution_count": null,
      "outputs": [
        {
          "output_type": "stream",
          "name": "stdout",
          "text": [
            "30 1000\n"
          ]
        }
      ]
    },
    {
      "cell_type": "markdown",
      "source": [
        "#### 문자열 \n",
        "1. 큰따옴표 : \"WOOSEOK KIM\"\n",
        "2. 작은 따옴표 : ' WOOSEOK KIM'\n",
        "3. 큰따옴표 3개 : \"\"\"대한민국\"\"\"\n",
        "4.작은 따옴표 3개 : ''' 대한민국'''\n",
        "5. \"동해물과 백두산이 마르고 닳도록\n",
        "kim\\'s"
      ],
      "metadata": {
        "id": "0vAPjxyuroW-"
      }
    },
    {
      "cell_type": "code",
      "source": [
        "# 변수수\n",
        "myName = \"Kim Woos Seok\"\n",
        "my_name = \"김우석\"\n",
        "_my_name = \"korea\"\n",
        "MYNAME = \"코리아\"\n",
        "my2name = \"KR\"\n",
        "#2myname = \"hahaha\"\n",
        "#my-name = \"dsadas\"\n",
        "#my name = \"space\" \n",
        "myName1 = 1234\n",
        "myName2 = \"1234\"\n",
        "print(type(myName1))\n",
        "print(type(myName2))\n"
      ],
      "metadata": {
        "colab": {
          "base_uri": "https://localhost:8080/"
        },
        "id": "1BboLnblsbc9",
        "outputId": "8661c7e0-570a-4b94-f652-d7198fa6f795"
      },
      "execution_count": null,
      "outputs": [
        {
          "output_type": "stream",
          "name": "stdout",
          "text": [
            "<class 'int'>\n",
            "<class 'str'>\n"
          ]
        }
      ]
    },
    {
      "cell_type": "code",
      "source": [],
      "metadata": {
        "id": "WKLYwsbivEaG"
      },
      "execution_count": null,
      "outputs": []
    },
    {
      "cell_type": "markdown",
      "source": [
        "#변수할당"
      ],
      "metadata": {
        "id": "qnTNtvf0vAab"
      }
    },
    {
      "cell_type": "code",
      "source": [
        "a,b,c = \"딸기\",\"포도\",\"바나나\"\n",
        "print(a)\n",
        "print(b)\n",
        "print(c)"
      ],
      "metadata": {
        "colab": {
          "base_uri": "https://localhost:8080/"
        },
        "id": "Di4nPJg4vFsT",
        "outputId": "1a41489d-bdae-4a9d-f7ef-ad61b6212e0f"
      },
      "execution_count": null,
      "outputs": [
        {
          "output_type": "stream",
          "name": "stdout",
          "text": [
            "딸기\n",
            "포도\n",
            "바나나\n"
          ]
        }
      ]
    },
    {
      "cell_type": "markdown",
      "source": [],
      "metadata": {
        "id": "qBxYP1hiw5O4"
      }
    },
    {
      "cell_type": "code",
      "source": [
        "fruits = [\"누가바\",\"쌍쌍바\",\"보석바\"]\n",
        "x,y,z = fruits\n",
        "print(x)\n",
        "print(y)\n",
        "print(z)"
      ],
      "metadata": {
        "colab": {
          "base_uri": "https://localhost:8080/"
        },
        "id": "pR5VNE_cv7I6",
        "outputId": "927e10f7-f0e4-4dd8-d066-6aef883a1137"
      },
      "execution_count": null,
      "outputs": [
        {
          "output_type": "stream",
          "name": "stdout",
          "text": [
            "누가바\n",
            "쌍쌍바\n",
            "보석바\n"
          ]
        }
      ]
    },
    {
      "cell_type": "code",
      "source": [
        "x = \"Life\"\n",
        "y = \" is\"\n",
        "z = \" beautiful!\"\n",
        "print (x,y,z)\n",
        "print(x+y+z)"
      ],
      "metadata": {
        "colab": {
          "base_uri": "https://localhost:8080/"
        },
        "id": "jIRtAWeXwji3",
        "outputId": "3638f3b3-1305-4a1d-989b-f873458a3f9d"
      },
      "execution_count": null,
      "outputs": [
        {
          "output_type": "stream",
          "name": "stdout",
          "text": [
            "Life  is  beautiful!\n",
            "Life is beautiful!\n"
          ]
        }
      ]
    },
    {
      "cell_type": "code",
      "source": [
        "a = '1'\n",
        "b = '2' \n",
        "c = '3'\n",
        "print(a+b+c)\n",
        "print(a,b,c)"
      ],
      "metadata": {
        "colab": {
          "base_uri": "https://localhost:8080/"
        },
        "id": "WqSe4d2TxBil",
        "outputId": "ef6912b3-32f9-4ccc-852b-3f4a7a6a8813"
      },
      "execution_count": null,
      "outputs": [
        {
          "output_type": "stream",
          "name": "stdout",
          "text": [
            "123\n",
            "1 2 3\n"
          ]
        }
      ]
    },
    {
      "cell_type": "code",
      "source": [
        "a=1;b=2;c=3;\n",
        "f = a+ b + \\\n",
        "c\n",
        "print(c)"
      ],
      "metadata": {
        "colab": {
          "base_uri": "https://localhost:8080/"
        },
        "id": "kMHp3iAx8hNv",
        "outputId": "14d73938-044d-47ef-896b-139e0b48f6c4"
      },
      "execution_count": null,
      "outputs": [
        {
          "output_type": "stream",
          "name": "stdout",
          "text": [
            "3\n"
          ]
        }
      ]
    },
    {
      "cell_type": "code",
      "source": [
        "#len\n",
        "\n",
        "a = 1,2,3,4,5,6\n",
        "print(len(a))"
      ],
      "metadata": {
        "colab": {
          "base_uri": "https://localhost:8080/"
        },
        "id": "c7KcHKvy8-0o",
        "outputId": "ef21b125-0641-4de4-9911-4944d9857042"
      },
      "execution_count": null,
      "outputs": [
        {
          "output_type": "stream",
          "name": "stdout",
          "text": [
            "6\n"
          ]
        }
      ]
    },
    {
      "cell_type": "code",
      "source": [
        "#len\n",
        "\n",
        "a = \"123456\"\n",
        "b = [2,3,4,5]\n",
        "print(len(a))\n",
        "print(len(b))"
      ],
      "metadata": {
        "colab": {
          "base_uri": "https://localhost:8080/"
        },
        "id": "ayu1fOfS9Nao",
        "outputId": "3c65c7fc-bc19-4dab-c770-2bc530d4501f"
      },
      "execution_count": null,
      "outputs": [
        {
          "output_type": "stream",
          "name": "stdout",
          "text": [
            "6\n",
            "4\n"
          ]
        }
      ]
    },
    {
      "cell_type": "code",
      "source": [
        "a=100\n",
        "b=200\n",
        "result = a+b\n",
        "\n",
        "print( a,'+',b,'=',result)\n",
        "result= a-b\n",
        "print(a, '-', b,'=',result) \n",
        "result = a/ b\n",
        "print(a, '/', b,'=',result) \n",
        "result = a % b\n",
        "print(a, '%', b,'=',result) \n",
        "result = a * b\n",
        "print(a, 'X', b,'=',result) \n",
        "\n",
        "\n"
      ],
      "metadata": {
        "colab": {
          "base_uri": "https://localhost:8080/"
        },
        "id": "RoKtt8Xa9YMn",
        "outputId": "2bb2b647-a91f-4959-a3ce-cb98e33c7a9b"
      },
      "execution_count": null,
      "outputs": [
        {
          "output_type": "stream",
          "name": "stdout",
          "text": [
            "100 + 200 = 300\n",
            "100 - 200 = -100\n",
            "100 / 200 = 0.5\n",
            "100 % 200 = 100\n",
            "100 X 200 = 20000\n"
          ]
        }
      ]
    },
    {
      "cell_type": "code",
      "source": [
        "a = \"1234\"\n",
        "b = 5678\n",
        "c = int(a) + b\n",
        "print(c)"
      ],
      "metadata": {
        "colab": {
          "base_uri": "https://localhost:8080/"
        },
        "id": "WUfYglEkAz2X",
        "outputId": "9ed72484-d940-465c-d3a0-4dc504b18470"
      },
      "execution_count": null,
      "outputs": [
        {
          "output_type": "stream",
          "name": "stdout",
          "text": [
            "6912\n"
          ]
        }
      ]
    },
    {
      "cell_type": "code",
      "source": [
        "# 계산기2 \n",
        "num1 = int(input(\"숫자입력1: \"))\n",
        "num2 = int(input(\"숫자입력2: \"))\n",
        "print(type(num1))\n",
        "\n",
        "result = num1+ num2\n",
        "\n",
        "print(result)"
      ],
      "metadata": {
        "colab": {
          "base_uri": "https://localhost:8080/"
        },
        "id": "wG1ZEtFHBFVH",
        "outputId": "ef10c3dc-4d14-47c6-ef38-0c12e6544441"
      },
      "execution_count": null,
      "outputs": [
        {
          "output_type": "stream",
          "name": "stdout",
          "text": [
            "숫자입력1: 1\n",
            "숫자입력2: 2\n",
            "<class 'int'>\n",
            "3\n"
          ]
        }
      ]
    },
    {
      "cell_type": "code",
      "source": [
        "#계산기3 \n",
        "\n",
        "num1 = int(input(\"숫자 입력1: \"))\n",
        "num2 = int(input(\"숫자 입력2: \"))\n",
        "\n",
        "result = num1 + num2 \n",
        "print( num1 '+' num2 '=' result)\n",
        "\n",
        "\n"
      ],
      "metadata": {
        "id": "B-L87gfiB_dJ"
      },
      "execution_count": null,
      "outputs": []
    },
    {
      "cell_type": "code",
      "source": [
        "char1 = input(\"자기이름: \")\n",
        "num2 = int(input(\"전화번호:  \"))\n",
        "num3 = int(input(\"택배 무게 입력: \"))\n",
        "print(type(char1))\n",
        "print(type(num1))\n",
        "print(type(num2))\n",
        "print(char1)\n",
        "print(num2) \n",
        "\n",
        "killogram = num3 * 100\n",
        "print(num3,'g', '*', 100,'원', '=', killogram,'원')"
      ],
      "metadata": {
        "colab": {
          "base_uri": "https://localhost:8080/"
        },
        "id": "ETO2hPZ9D1h3",
        "outputId": "a3d1d1c6-3d23-4e6a-9d39-4de613053a75"
      },
      "execution_count": null,
      "outputs": [
        {
          "output_type": "stream",
          "name": "stdout",
          "text": [
            "자기이름: 김우석\n",
            "전화번호:  01051893743\n",
            "택배 무게 입력: 200\n",
            "<class 'str'>\n",
            "<class 'int'>\n",
            "<class 'int'>\n",
            "김우석\n",
            "1051893743\n",
            "200 g * 100 원 = 20000 원\n"
          ]
        }
      ]
    },
    {
      "cell_type": "code",
      "source": [
        "num1 = int(100)\n",
        "num2 = int(200)\n",
        "result = num1 + num2\n",
        "print( num1,'+',num2, '=' , result)\n"
      ],
      "metadata": {
        "colab": {
          "base_uri": "https://localhost:8080/"
        },
        "id": "GEIeCTovfagD",
        "outputId": "f1ac62c1-cec3-48ec-9307-48840036a632"
      },
      "execution_count": null,
      "outputs": [
        {
          "output_type": "stream",
          "name": "stdout",
          "text": [
            "100 + 200 = 300\n"
          ]
        }
      ]
    },
    {
      "cell_type": "code",
      "source": [
        "a = 2 \n",
        "b = 2.0\n",
        "if a == b:\n",
        "    print(\"a는 b와 같음\")\n",
        "elif a > b: \n",
        "    print(\"a가 b보다 큼\")\n",
        "else : \n",
        "   print(\"a가 b보다 작음\")"
      ],
      "metadata": {
        "colab": {
          "base_uri": "https://localhost:8080/"
        },
        "id": "MPfftAmTgwP7",
        "outputId": "96977db9-3f7a-42e6-85da-489c26320ff5"
      },
      "execution_count": null,
      "outputs": [
        {
          "output_type": "stream",
          "name": "stdout",
          "text": [
            "a는 b와 같음\n"
          ]
        }
      ]
    },
    {
      "cell_type": "code",
      "source": [
        "  print(\"%d\" % 123)\n",
        "  print(\"%5d\" % 123)\n",
        "  print(\"%05d\" % 123)\n",
        "\n",
        "  print(\"%f % 123.45\")\n",
        "  print(\"%7.1f\" % 123.45)\n",
        "  print(\"%7.3f\" % 123.45)\n",
        "\n",
        "  print(\"%c\" % \"1\")\n",
        "  print(\"%s\" % \"가나다라\")\n",
        "  print(\"%6s\" % \"가나다라\")\n",
        "  print(\"%6s\" % \"abcd\")"
      ],
      "metadata": {
        "colab": {
          "base_uri": "https://localhost:8080/"
        },
        "id": "FyAoVKe9h-sX",
        "outputId": "31f8f694-5d1b-4e0a-d256-4559f0e140c3"
      },
      "execution_count": null,
      "outputs": [
        {
          "output_type": "stream",
          "name": "stdout",
          "text": [
            "123\n",
            "  123\n",
            "00123\n",
            "%f % 123.45\n",
            "  123.5\n",
            "123.450\n",
            "1\n",
            "가나다라\n",
            "  가나다라\n",
            "  abcd\n"
          ]
        }
      ]
    },
    {
      "cell_type": "code",
      "source": [
        "print(\"{0:d} {1:5d} {2:05d}\". format(123,456,789))"
      ],
      "metadata": {
        "colab": {
          "base_uri": "https://localhost:8080/"
        },
        "id": "tpl2bbizkmMU",
        "outputId": "ed622f4a-461b-4660-921d-141f8f28e858"
      },
      "execution_count": null,
      "outputs": [
        {
          "output_type": "stream",
          "name": "stdout",
          "text": [
            "123   456 00789\n"
          ]
        }
      ]
    },
    {
      "cell_type": "code",
      "source": [
        "print(\"{2:d} {1:5d} {0:05d}\". format(123,456,789))"
      ],
      "metadata": {
        "colab": {
          "base_uri": "https://localhost:8080/"
        },
        "id": "GwiZZbUolBSP",
        "outputId": "7f2ce469-db06-4482-8112-ee1fe570d8d9"
      },
      "execution_count": null,
      "outputs": [
        {
          "output_type": "stream",
          "name": "stdout",
          "text": [
            "789   456 00123\n"
          ]
        }
      ]
    },
    {
      "cell_type": "code",
      "source": [
        "print(\"\\n줄 바꿈 명령\\n연습 입니다.\")"
      ],
      "metadata": {
        "colab": {
          "base_uri": "https://localhost:8080/"
        },
        "id": "LeKv8M2GlHzV",
        "outputId": "aa3d6373-290b-41d5-c703-b4417102398e"
      },
      "execution_count": null,
      "outputs": [
        {
          "output_type": "stream",
          "name": "stdout",
          "text": [
            "\n",
            "줄 바꿈 명령\n",
            "연습 입니다.\n"
          ]
        }
      ]
    },
    {
      "cell_type": "code",
      "source": [
        "print(\"\\t탭키 명령 \\t연습중입니다.\")"
      ],
      "metadata": {
        "colab": {
          "base_uri": "https://localhost:8080/"
        },
        "id": "Ig7XEVWvlX8E",
        "outputId": "e67f9389-9ffd-4d0c-fbc8-9ab38fe5bdf2"
      },
      "execution_count": null,
      "outputs": [
        {
          "output_type": "stream",
          "name": "stdout",
          "text": [
            "\t탭키 명령 \t연습중입니다.\n"
          ]
        }
      ]
    },
    {
      "cell_type": "code",
      "source": [
        "print(\"따옴표 글자가 \\\"강조\\\"되는 효과1\")\n",
        "print(\"따옴표 글자가 \\'강조\\'되는 효과2\")\n",
        "print(\"역슬레시 3개를 출력하려면 \\\\\\\\\\\\ 6개\")\n",
        "print(r\"\\n \\t \\ \\\\ \\ @를 그대로 출력\")"
      ],
      "metadata": {
        "colab": {
          "base_uri": "https://localhost:8080/"
        },
        "id": "wTAj5SeUljAI",
        "outputId": "8fa7596c-d15c-49cc-9aac-619c93d22006"
      },
      "execution_count": null,
      "outputs": [
        {
          "output_type": "stream",
          "name": "stdout",
          "text": [
            "따옴표 글자가 \"강조\"되는 효과1\n",
            "따옴표 글자가 '강조'되는 효과2\n",
            "역슬레시 3개를 출력하려면 \\\\\\ 6개\n",
            "\\n \\t \\ \\\\ \\ @를 그대로 출력\n"
          ]
        }
      ]
    },
    {
      "cell_type": "code",
      "source": [
        "print(\"따옴표 글자가 \\\"강조\\\"되는 효과1\")\n",
        "print(\"따옴표 글자가 \\'강조\\'되는 효과2\")\n",
        "print(\"역슬래시 3개를 출력하면\")"
      ],
      "metadata": {
        "id": "kf_o2OxvoiK_"
      },
      "execution_count": null,
      "outputs": []
    },
    {
      "cell_type": "markdown",
      "source": [
        "관계 연산자"
      ],
      "metadata": {
        "id": "0a6S7joEu282"
      }
    },
    {
      "cell_type": "code",
      "source": [
        "a,b = 10,20\n",
        "print(a==b, a!=b,a>=b,a<=b,a>b,a<b)"
      ],
      "metadata": {
        "colab": {
          "base_uri": "https://localhost:8080/"
        },
        "id": "XOzb9X_2urzp",
        "outputId": "fa0277fc-9f37-4b2f-e10c-6ba5fe4f881a"
      },
      "execution_count": null,
      "outputs": [
        {
          "output_type": "stream",
          "name": "stdout",
          "text": [
            "False True False True False True\n"
          ]
        }
      ]
    },
    {
      "cell_type": "markdown",
      "source": [
        "#### 논리 연산자 and , or ,not"
      ],
      "metadata": {
        "id": "rtIzs8bevHMk"
      }
    },
    {
      "cell_type": "code",
      "source": [
        "a= 95\n",
        "print(( a>100) and (a<200)) # 100<a<200\n",
        "print((a<100) or (a>200))  #  a<100 , a>200\n",
        "print(not(a==100))  # a<=99, a>=101"
      ],
      "metadata": {
        "colab": {
          "base_uri": "https://localhost:8080/"
        },
        "id": "qQbpCdhdvLmr",
        "outputId": "b2c12535-4847-46c9-8849-a683e0365034"
      },
      "execution_count": null,
      "outputs": [
        {
          "output_type": "stream",
          "name": "stdout",
          "text": [
            "False\n",
            "True\n",
            "True\n"
          ]
        }
      ]
    },
    {
      "cell_type": "code",
      "source": [
        "if(10):\n",
        "   print(\"참이면 실행되어 보임\")\n",
        "if(0):\n",
        "  print(\"거짓이면 안보임\")"
      ],
      "metadata": {
        "colab": {
          "base_uri": "https://localhost:8080/"
        },
        "id": "7QoSj6oEwfxW",
        "outputId": "4db66f39-8896-48de-f363-7ab98af3083d"
      },
      "execution_count": null,
      "outputs": [
        {
          "output_type": "stream",
          "name": "stdout",
          "text": [
            "참이면 실행되어 보임\n"
          ]
        }
      ]
    },
    {
      "cell_type": "markdown",
      "source": [
        "#### 퀴즈 2 // 몫 % 나머지 money =int(input(\"입력:\")) 지폐 금액입력 후 동전으로 교환시 (500원 , 100원, 50원 , 10원)\n",
        "money, c500, c100, c50, c10\n",
        "받은돈 : ?원원\n",
        "500원 : ?개\n",
        "100원 : ?개\n",
        "50원 : ?개\n",
        "10원 : ?개\n",
        "나머지 : ?원원"
      ],
      "metadata": {
        "id": "hHDQ4_pcxAJL"
      }
    },
    {
      "cell_type": "code",
      "source": [
        "num1 = int(input(\"금액을 넣어주세요\"))\n",
        "result = num1\n",
        "result_500  = result / 500\n",
        "\n",
        "result_100  = result / 100\n",
        "result_50   = result / 50 \n",
        "result_10   = result/ 10 \n",
        "result_remain = result - result_500 - result_100 - result_50 - result_10 \n",
        "\n",
        "print(\"500원 :\",result_500,'개')\n",
        "result_100= result -result_500-result_100\n",
        "print(\"100원 :\",result_100,'개')\n",
        "result_50 = result- result_500 -result_100 -result_50\n",
        "print(\"50원 :\",result_50,'개')\n",
        "result_10 = result- result_500 -result_100 - result_50 - result_10\n",
        "print(\"10원 :\",result_10,'개')\n",
        "print(\"나머지 :\",result_remain,'개')"
      ],
      "metadata": {
        "colab": {
          "base_uri": "https://localhost:8080/"
        },
        "id": "Vs1vmphqyR6t",
        "outputId": "ad368d67-f8cf-463d-853f-decb7a432802"
      },
      "execution_count": null,
      "outputs": [
        {
          "output_type": "stream",
          "name": "stdout",
          "text": [
            "금액을 넣어주세요12880\n",
            "500원 : 25.76 개\n",
            "100원 : 12725.44 개\n",
            "50원 : -128.80000000000075 개\n",
            "10원 : -1030.4 개\n",
            "나머지 : 11179.84 개\n"
          ]
        }
      ]
    },
    {
      "cell_type": "code",
      "source": [
        "money,c500,c100,c50,c10=0,0,0,0,0\n",
        "money=int(input(\"동전으로 교환할 돈은? :\"))\n",
        "print(\"입력받은 돈은 %d원\" % money)\n",
        "c500 = money // 500 #몫\n",
        "money %= 500 \n",
        "c100 = money // 100\n",
        "money %= 100\n",
        "c50 = money // 50\n",
        "money %= 50\n",
        "c10 = money // 10\n",
        "money %= 10 \n",
        "print(\"500원 동전 : %d\" % c500)\n",
        "print(\"100원 동전 : %d\" % c100)\n",
        "print(\"50원 동전 : %d\" % c50)\n",
        "print(\"10원 동전 : %d\" % c10)\n",
        "print(\"나머지지 동전 : %d\" % money)"
      ],
      "metadata": {
        "colab": {
          "base_uri": "https://localhost:8080/"
        },
        "id": "3pzSDYe24vUR",
        "outputId": "ca4287ee-013f-48f7-ee39-5e7d1cc09d9e"
      },
      "execution_count": null,
      "outputs": [
        {
          "output_type": "stream",
          "name": "stdout",
          "text": [
            "동전으로 교환할 돈은? :12880\n",
            "입력받은 돈은 12880원\n",
            "500원 동전 : 25\n",
            "100원 동전 : 3\n",
            "50원 동전 : 1\n",
            "10원 동전 : 3\n",
            "나머지지 동전 : 0\n"
          ]
        }
      ]
    },
    {
      "cell_type": "markdown",
      "source": [
        "**조건문**"
      ],
      "metadata": {
        "id": "Ak-ywuXH6myt"
      }
    },
    {
      "cell_type": "code",
      "source": [
        "a = 150\n",
        "if(a <100):  \n",
        "  print(\"100보다 작으면 참\")\n",
        "  print(\"거짓이면 이문장은 보이지 않음\")\n",
        "print(\"프로그램 끝\")\n"
      ],
      "metadata": {
        "colab": {
          "base_uri": "https://localhost:8080/"
        },
        "id": "oJFshlEO6n7z",
        "outputId": "69233b17-c8f1-472e-8e79-805e500a02e3"
      },
      "execution_count": null,
      "outputs": [
        {
          "output_type": "stream",
          "name": "stdout",
          "text": [
            "프로그램 끝\n"
          ]
        }
      ]
    },
    {
      "cell_type": "code",
      "source": [
        "a = 200\n",
        "if (a<100):\n",
        "  print(\"100보다 작음\")\n",
        "else : \n",
        "  print(\"거짓 조건 보다 크면\")\n",
        "print(\"프로그램 끝!\")"
      ],
      "metadata": {
        "colab": {
          "base_uri": "https://localhost:8080/"
        },
        "id": "M_Indwis7Z8O",
        "outputId": "bb53531a-371a-46ac-a52b-22bebf5291c6"
      },
      "execution_count": null,
      "outputs": [
        {
          "output_type": "stream",
          "name": "stdout",
          "text": [
            "거짓 조건 보다 크면\n",
            "프로그램 끝!\n"
          ]
        }
      ]
    },
    {
      "cell_type": "code",
      "source": [
        "#홀짝 구분 \n",
        "a = int(input(\"숫자 입력\\n\"))\n",
        "if(a%2==0):  \n",
        "  print(\"짝수 입니다\")\n",
        "else : \n",
        "  print(\"홀수 입니다\")"
      ],
      "metadata": {
        "colab": {
          "base_uri": "https://localhost:8080/"
        },
        "id": "Febx7JBh75uW",
        "outputId": "4eb2a048-1710-4fb0-d3ac-79e9c2adfae6"
      },
      "execution_count": null,
      "outputs": [
        {
          "output_type": "stream",
          "name": "stdout",
          "text": [
            "숫자 입력\n",
            "37\n",
            "홀수 입니다\n"
          ]
        }
      ]
    },
    {
      "cell_type": "code",
      "source": [
        "a = int(input(\"슷자 입력:\"))\n",
        "if(a>50):\n",
        "  if(a<100):\n",
        "    print(\"50<a<100\")\n",
        "  else:\n",
        "    print(\"a>100\")\n",
        "else:\n",
        "  if(a>25): \n",
        "    print(\"25<a<50\")\n",
        "  else:\n",
        "    print(\"a<25\")\n",
        "print(\"프로그램 종료!\")"
      ],
      "metadata": {
        "colab": {
          "base_uri": "https://localhost:8080/"
        },
        "id": "B03BWZOm9CLs",
        "outputId": "c01ada9e-a55a-4ace-f52d-366fc81cdd90"
      },
      "execution_count": null,
      "outputs": [
        {
          "output_type": "stream",
          "name": "stdout",
          "text": [
            "슷자 입력:70\n",
            "50<a<100\n",
            "프로그램 종료!\n"
          ]
        }
      ]
    },
    {
      "cell_type": "code",
      "source": [
        "fruit = ['사과','배','샤인머스켓','바나나']\n",
        "fruit.append('망고')\n",
        "if '딸기' in fruit :\n",
        "  print(\"망고가 있습니다\")\n",
        "print(fruit)"
      ],
      "metadata": {
        "colab": {
          "base_uri": "https://localhost:8080/"
        },
        "id": "aMsECdG6_wv3",
        "outputId": "10136a01-efa2-4fd7-f0f2-252ab4722358"
      },
      "execution_count": null,
      "outputs": [
        {
          "output_type": "stream",
          "name": "stdout",
          "text": [
            "['사과', '배', '샤인머스켓', '바나나', '망고']\n"
          ]
        }
      ]
    },
    {
      "cell_type": "markdown",
      "source": [
        "반복문"
      ],
      "metadata": {
        "id": "MCUpWKViA1G6"
      }
    },
    {
      "cell_type": "code",
      "source": [
        "for i in range(1,10,1): #시작값, 끝값+1,증가값값\n",
        "  print(\"%d 안녕하세요.\" % i)\n",
        "print(\"환영합니다.\")\n"
      ],
      "metadata": {
        "colab": {
          "base_uri": "https://localhost:8080/"
        },
        "id": "tyhQRp4PArny",
        "outputId": "f77301f9-791d-4c81-c75f-2a4acbfc5976"
      },
      "execution_count": null,
      "outputs": [
        {
          "output_type": "stream",
          "name": "stdout",
          "text": [
            "1 안녕하세요.\n",
            "2 안녕하세요.\n",
            "3 안녕하세요.\n",
            "4 안녕하세요.\n",
            "5 안녕하세요.\n",
            "6 안녕하세요.\n",
            "7 안녕하세요.\n",
            "8 안녕하세요.\n",
            "9 안녕하세요.\n",
            "환영합니다.\n"
          ]
        }
      ]
    },
    {
      "cell_type": "code",
      "source": [
        "import random \n",
        "num = []\n",
        "for i in range(0,6): # 생략시 1씩 증가 \n",
        "  num.append(random. randrange(1,46))\n",
        "print(\"생성 리스트\", num)"
      ],
      "metadata": {
        "colab": {
          "base_uri": "https://localhost:8080/"
        },
        "id": "n3NljSYjB8jh",
        "outputId": "d1d36d82-de12-44df-ecfe-4a9995220b65"
      },
      "execution_count": null,
      "outputs": [
        {
          "output_type": "stream",
          "name": "stdout",
          "text": [
            "생성 리스트 [27, 12, 16, 45, 27, 19]\n"
          ]
        }
      ]
    },
    {
      "cell_type": "code",
      "source": [
        "for i in range(1,9,1):\n",
        "  print(\"%d\" % i) # 새로버젼\n"
      ],
      "metadata": {
        "colab": {
          "base_uri": "https://localhost:8080/"
        },
        "id": "XBT7XcDmCLHn",
        "outputId": "2d6a887e-5451-47c0-9238-0eda1174fe8c"
      },
      "execution_count": null,
      "outputs": [
        {
          "output_type": "stream",
          "name": "stdout",
          "text": [
            "1\n",
            "2\n",
            "3\n",
            "4\n",
            "5\n",
            "6\n",
            "7\n",
            "8\n"
          ]
        }
      ]
    },
    {
      "cell_type": "code",
      "source": [
        "for i in range(1,9,1):\n",
        "  print(\"%d\" % i, end = '\\t') # 가로버젼, 띄어쓰기기\n"
      ],
      "metadata": {
        "colab": {
          "base_uri": "https://localhost:8080/"
        },
        "id": "lxQv3S0TDwOh",
        "outputId": "ff108d28-7afb-482f-9973-32b62ad42204"
      },
      "execution_count": null,
      "outputs": [
        {
          "output_type": "stream",
          "name": "stdout",
          "text": [
            "1\t2\t3\t4\t5\t6\t7\t8\t"
          ]
        }
      ]
    },
    {
      "cell_type": "code",
      "source": [
        "for i in range(1,9,1):\n",
        "  print(\"%d\" % i) # 새로버젼\n",
        "print(\"\\n\")\n",
        "for j in range(1,9,1):\n",
        "  print(\"%d\" % j, end = '\\t') # 가로버젼, 띄어쓰기기"
      ],
      "metadata": {
        "colab": {
          "base_uri": "https://localhost:8080/"
        },
        "id": "_csO0ndbEE3w",
        "outputId": "5aafba3a-5abb-4814-e75a-8063c0037a40"
      },
      "execution_count": null,
      "outputs": [
        {
          "output_type": "stream",
          "name": "stdout",
          "text": [
            "1\n",
            "2\n",
            "3\n",
            "4\n",
            "5\n",
            "6\n",
            "7\n",
            "8\n",
            "\n",
            "\n",
            "1\t2\t3\t4\t5\t6\t7\t8\t"
          ]
        }
      ]
    },
    {
      "cell_type": "code",
      "source": [
        "sum = 0\n",
        "for i in range(1,11,1):\n",
        "  sum = sum + i\n",
        "print(\"1부터 10까지의 합: %d\" % sum )"
      ],
      "metadata": {
        "colab": {
          "base_uri": "https://localhost:8080/"
        },
        "id": "gEhlc76bEVBq",
        "outputId": "a3a2582b-8077-4278-c8af-0fb7dbf2079e"
      },
      "execution_count": null,
      "outputs": [
        {
          "output_type": "stream",
          "name": "stdout",
          "text": [
            "1부터 10까지의 합: 55\n"
          ]
        }
      ]
    },
    {
      "cell_type": "code",
      "source": [
        "sum,num=0,0\n",
        "num = int(input(\"숫자입력\"))\n",
        "for i in range(1,num+1,1):\n",
        "  sum = sum + i\n",
        "print(\"1~n까지의 합: %d\" % sum)"
      ],
      "metadata": {
        "colab": {
          "base_uri": "https://localhost:8080/"
        },
        "id": "XQbqJr-gE30a",
        "outputId": "6483122f-673e-406c-ecd8-f7477313f4b4"
      },
      "execution_count": null,
      "outputs": [
        {
          "output_type": "stream",
          "name": "stdout",
          "text": [
            "숫자입력10000\n",
            "1~n까지의 합: 50005000\n"
          ]
        }
      ]
    },
    {
      "cell_type": "code",
      "source": [
        "i,j=2,0\n",
        "for j in range(1,10,1):\n",
        "  print(\"%d x %d = %2d\" % (i,j,i*j))"
      ],
      "metadata": {
        "colab": {
          "base_uri": "https://localhost:8080/"
        },
        "id": "s40Jfca4Fvqr",
        "outputId": "ddbe293a-51fd-4a2e-c9f9-afc6cdd03555"
      },
      "execution_count": null,
      "outputs": [
        {
          "output_type": "stream",
          "name": "stdout",
          "text": [
            "2 x 1 =  2\n",
            "2 x 2 =  4\n",
            "2 x 3 =  6\n",
            "2 x 4 =  8\n",
            "2 x 5 = 10\n",
            "2 x 6 = 12\n",
            "2 x 7 = 14\n",
            "2 x 8 = 16\n",
            "2 x 9 = 18\n"
          ]
        }
      ]
    },
    {
      "cell_type": "markdown",
      "source": [
        "#퀴즈 3 구구단을 만들고 2,3,4,5 줄 바꿔서 6,7,8,9를를"
      ],
      "metadata": {
        "id": "wgTmPVC9HlmF"
      }
    },
    {
      "cell_type": "code",
      "source": [
        "\n",
        "k= int(input(\"구구단수 입력 : \"))\n",
        "for a in range(1,10):\n",
        "  for b in range(2,6):\n",
        "    print(\"%d x %d = %2d\" % (b,a,a*b), end=\"\\t\")\n",
        "  print(\"\")\n",
        "print(\"\\n\")\n",
        "c,d=0,0\n",
        "for c in range(1,10):\n",
        "  for d in range(6,10):\n",
        "    print(\"%d x %d = %2d\" % (d,c,c*d), end=\"\\t\")\n",
        "  print(\"\")"
      ],
      "metadata": {
        "colab": {
          "base_uri": "https://localhost:8080/"
        },
        "id": "TBmr8lB8GsRl",
        "outputId": "620934f9-310a-4392-a01f-d388054148ce"
      },
      "execution_count": null,
      "outputs": [
        {
          "output_type": "stream",
          "name": "stdout",
          "text": [
            "구구단수 입력 : 10\n",
            "2 x 1 =  2\t3 x 1 =  3\t4 x 1 =  4\t5 x 1 =  5\t\n",
            "2 x 2 =  4\t3 x 2 =  6\t4 x 2 =  8\t5 x 2 = 10\t\n",
            "2 x 3 =  6\t3 x 3 =  9\t4 x 3 = 12\t5 x 3 = 15\t\n",
            "2 x 4 =  8\t3 x 4 = 12\t4 x 4 = 16\t5 x 4 = 20\t\n",
            "2 x 5 = 10\t3 x 5 = 15\t4 x 5 = 20\t5 x 5 = 25\t\n",
            "2 x 6 = 12\t3 x 6 = 18\t4 x 6 = 24\t5 x 6 = 30\t\n",
            "2 x 7 = 14\t3 x 7 = 21\t4 x 7 = 28\t5 x 7 = 35\t\n",
            "2 x 8 = 16\t3 x 8 = 24\t4 x 8 = 32\t5 x 8 = 40\t\n",
            "2 x 9 = 18\t3 x 9 = 27\t4 x 9 = 36\t5 x 9 = 45\t\n",
            "\n",
            "\n",
            "6 x 1 =  6\t7 x 1 =  7\t8 x 1 =  8\t9 x 1 =  9\t\n",
            "6 x 2 = 12\t7 x 2 = 14\t8 x 2 = 16\t9 x 2 = 18\t\n",
            "6 x 3 = 18\t7 x 3 = 21\t8 x 3 = 24\t9 x 3 = 27\t\n",
            "6 x 4 = 24\t7 x 4 = 28\t8 x 4 = 32\t9 x 4 = 36\t\n",
            "6 x 5 = 30\t7 x 5 = 35\t8 x 5 = 40\t9 x 5 = 45\t\n",
            "6 x 6 = 36\t7 x 6 = 42\t8 x 6 = 48\t9 x 6 = 54\t\n",
            "6 x 7 = 42\t7 x 7 = 49\t8 x 7 = 56\t9 x 7 = 63\t\n",
            "6 x 8 = 48\t7 x 8 = 56\t8 x 8 = 64\t9 x 8 = 72\t\n",
            "6 x 9 = 54\t7 x 9 = 63\t8 x 9 = 72\t9 x 9 = 81\t\n"
          ]
        }
      ]
    },
    {
      "cell_type": "markdown",
      "source": [
        "#CH3. 자료형\n",
        "\n",
        "## 1. 리스트 인덱스, 슬라이싱 "
      ],
      "metadata": {
        "id": "u2EbRByTh565"
      }
    },
    {
      "cell_type": "code",
      "source": [
        "a = [1,2,3,4,5,6,7,8,9]\n",
        "print(a)\n"
      ],
      "metadata": {
        "colab": {
          "base_uri": "https://localhost:8080/"
        },
        "id": "lp02cO8WiIHq",
        "outputId": "e911be69-8d50-44c4-c2be-0c16243c9310"
      },
      "execution_count": 1,
      "outputs": [
        {
          "output_type": "stream",
          "name": "stdout",
          "text": [
            "[1, 2, 3, 4, 5, 6, 7, 8, 9]\n"
          ]
        }
      ]
    },
    {
      "cell_type": "code",
      "source": [
        "a = [1,2,3,4,5,6,7,8,9]\n",
        "print(a[-1])\n",
        "print(a[-2])\n"
      ],
      "metadata": {
        "colab": {
          "base_uri": "https://localhost:8080/"
        },
        "id": "mD42ob1lkDTn",
        "outputId": "a2c27287-5e4d-47f7-9564-dae87557caae"
      },
      "execution_count": 2,
      "outputs": [
        {
          "output_type": "stream",
          "name": "stdout",
          "text": [
            "9\n",
            "8\n"
          ]
        }
      ]
    },
    {
      "cell_type": "code",
      "source": [
        "a = [1,2,3,4,5,6,7,8,9]\n",
        "print(a[1:9:2])\n",
        "print(a[1:9:2])"
      ],
      "metadata": {
        "colab": {
          "base_uri": "https://localhost:8080/"
        },
        "id": "OTXBxyltkOFP",
        "outputId": "b0d8fa8a-e862-4ebd-b9c2-9516967ab7f1"
      },
      "execution_count": 3,
      "outputs": [
        {
          "output_type": "stream",
          "name": "stdout",
          "text": [
            "[2, 4, 6, 8]\n",
            "[2, 4, 6, 8]\n"
          ]
        }
      ]
    },
    {
      "cell_type": "code",
      "source": [
        "a = [1,2,3,4,5,6,7,8,9]\n",
        "print(a[:4])\n",
        "print(a[5:])"
      ],
      "metadata": {
        "colab": {
          "base_uri": "https://localhost:8080/"
        },
        "id": "asTBQ-4JkoOV",
        "outputId": "da5266c4-f441-4011-cdb4-2fe2f86e0b03"
      },
      "execution_count": 4,
      "outputs": [
        {
          "output_type": "stream",
          "name": "stdout",
          "text": [
            "[1, 2, 3, 4]\n",
            "[6, 7, 8, 9]\n"
          ]
        }
      ]
    },
    {
      "cell_type": "code",
      "source": [
        "a = [1,2,3,4,5,6,7,8,9]\n",
        "print(len(a))\n",
        "print(len(a)-1)"
      ],
      "metadata": {
        "colab": {
          "base_uri": "https://localhost:8080/"
        },
        "id": "IYxjB4M2lSTt",
        "outputId": "ab403f4a-dea4-4667-aaa9-ff0f96797147"
      },
      "execution_count": 7,
      "outputs": [
        {
          "output_type": "stream",
          "name": "stdout",
          "text": [
            "9\n",
            "8\n"
          ]
        }
      ]
    },
    {
      "cell_type": "code",
      "source": [
        "b = [1,2,3,4,5,6]\n",
        "b[0] = \"apple\"\n",
        "b[1] = 99 \n",
        "b[5] = [1,2,3]\n",
        "print(b)"
      ],
      "metadata": {
        "colab": {
          "base_uri": "https://localhost:8080/"
        },
        "id": "9tTxCYO_ltGv",
        "outputId": "7286b719-fd89-44c4-8e94-30a7ee0c91c5"
      },
      "execution_count": 9,
      "outputs": [
        {
          "output_type": "stream",
          "name": "stdout",
          "text": [
            "['apple', 99, 3, 4, 5, [1, 2, 3]]\n"
          ]
        }
      ]
    },
    {
      "cell_type": "code",
      "source": [
        "k = [\"a\",\"b\",\"c\",\"d\",\"c\"]\n",
        "k.remove(\"c\")\n",
        "print(k)\n",
        "k.append"
      ],
      "metadata": {
        "colab": {
          "base_uri": "https://localhost:8080/"
        },
        "id": "AwfAT4SynGW4",
        "outputId": "5dd2c7c8-a156-4ece-c9c7-acba6a3127b9"
      },
      "execution_count": 10,
      "outputs": [
        {
          "output_type": "stream",
          "name": "stdout",
          "text": [
            "['a', 'b', 'd', 'c']\n"
          ]
        },
        {
          "output_type": "execute_result",
          "data": {
            "text/plain": [
              "<function list.append(object, /)>"
            ]
          },
          "metadata": {},
          "execution_count": 10
        }
      ]
    },
    {
      "cell_type": "code",
      "source": [
        "k = [\"a\",\"b\",\"c\",\"d\",\"c\"]\n",
        "k.remove(\"c\") #해당 요소값 삭제\n",
        "print(k)\n",
        "k.append(\"f\") #맨뒤로 추가\n",
        "print(k)"
      ],
      "metadata": {
        "colab": {
          "base_uri": "https://localhost:8080/"
        },
        "id": "NGObJkOnnfDm",
        "outputId": "44c13581-8541-4830-c3ba-fc83329668b7"
      },
      "execution_count": 12,
      "outputs": [
        {
          "output_type": "stream",
          "name": "stdout",
          "text": [
            "['a', 'b', 'd', 'c']\n",
            "['a', 'b', 'd', 'c', 'f']\n"
          ]
        }
      ]
    },
    {
      "cell_type": "code",
      "source": [
        "k = [1,2,3,4,5,6]\n",
        "k.remove(3) #해당 요소값 삭제\n",
        "print(k)\n",
        "k.append(6) #맨뒤로 추가\n",
        "print(k)"
      ],
      "metadata": {
        "colab": {
          "base_uri": "https://localhost:8080/"
        },
        "id": "zxzDYKjxnzoG",
        "outputId": "f1d3699d-c177-4b8f-c3ef-d805d6a59fb6"
      },
      "execution_count": 15,
      "outputs": [
        {
          "output_type": "stream",
          "name": "stdout",
          "text": [
            "[1, 2, 4, 5, 6]\n",
            "[1, 2, 4, 5, 6, 6]\n"
          ]
        }
      ]
    },
    {
      "cell_type": "code",
      "source": [
        "j = \"God is love!\"\n",
        "print(j[:3])\n",
        "print(j[4:6])\n",
        "print(j[7:])"
      ],
      "metadata": {
        "colab": {
          "base_uri": "https://localhost:8080/"
        },
        "id": "_1rq-erToMQZ",
        "outputId": "d326c3fa-e5f5-4792-9fd4-3ef39511701b"
      },
      "execution_count": 17,
      "outputs": [
        {
          "output_type": "stream",
          "name": "stdout",
          "text": [
            "God\n",
            "is\n",
            "love!\n"
          ]
        }
      ]
    },
    {
      "cell_type": "code",
      "source": [
        "j = \"God is love!\"\n",
        "print(j.upper())\n",
        "print(j.lower())\n",
        "print(j.strip())\n"
      ],
      "metadata": {
        "colab": {
          "base_uri": "https://localhost:8080/"
        },
        "id": "va7YyKqyojv3",
        "outputId": "fa876e60-bc8e-46d5-c67e-e9469e972a78"
      },
      "execution_count": 18,
      "outputs": [
        {
          "output_type": "stream",
          "name": "stdout",
          "text": [
            "GOD IS LOVE!\n",
            "god is love!\n",
            "God is love!\n"
          ]
        }
      ]
    },
    {
      "cell_type": "code",
      "source": [
        "a = \"apple, mango, banana\"\n",
        "print(a.split(\",\"))"
      ],
      "metadata": {
        "colab": {
          "base_uri": "https://localhost:8080/"
        },
        "id": "gGtE5Eycse0a",
        "outputId": "f09f6837-0a06-41e7-b246-36858092ae17"
      },
      "execution_count": 19,
      "outputs": [
        {
          "output_type": "stream",
          "name": "stdout",
          "text": [
            "['apple', ' mango', ' banana']\n"
          ]
        }
      ]
    },
    {
      "cell_type": "code",
      "source": [
        "a = [\"apple\",\"banana\",\"cherry\"]\n",
        "a.append(\"Orange\") #맨 뒷쪽에 추가\n",
        "print(a)"
      ],
      "metadata": {
        "colab": {
          "base_uri": "https://localhost:8080/"
        },
        "id": "Pgk2wxG-tcPu",
        "outputId": "604cdd3a-36b9-451e-a596-d3f025bd50c9"
      },
      "execution_count": 20,
      "outputs": [
        {
          "output_type": "stream",
          "name": "stdout",
          "text": [
            "['apple', 'banana', 'cherry', 'Orange']\n"
          ]
        }
      ]
    },
    {
      "cell_type": "code",
      "source": [
        "a = [\"apple\", \"banana\",\"cherry\"]\n",
        "a.insert(1,\"orange\") #지정한곳에 삽입\n",
        "print(a)"
      ],
      "metadata": {
        "colab": {
          "base_uri": "https://localhost:8080/"
        },
        "id": "B9XAB3EXtqeN",
        "outputId": "abbf49f5-e149-4d96-cf35-55346c81d5e2"
      },
      "execution_count": 21,
      "outputs": [
        {
          "output_type": "stream",
          "name": "stdout",
          "text": [
            "['apple', 'orange', 'banana', 'cherry']\n"
          ]
        }
      ]
    },
    {
      "cell_type": "code",
      "source": [
        "a = [\"apple\", \"banana\",\"cherry\",\"banana\"]\n",
        "a.remove(\"banana\")\n",
        "print(a)"
      ],
      "metadata": {
        "colab": {
          "base_uri": "https://localhost:8080/"
        },
        "id": "QIW-HrF0t3_k",
        "outputId": "15e4a853-71f3-4d7c-9aab-64afe1c335e1"
      },
      "execution_count": 23,
      "outputs": [
        {
          "output_type": "stream",
          "name": "stdout",
          "text": [
            "['apple', 'cherry', 'banana']\n"
          ]
        }
      ]
    },
    {
      "cell_type": "code",
      "source": [
        "a = [\"apple\",\"banana\",\"cherry\"]\n",
        "a.pop() # 맨뒤 지움움\n",
        "print(a) \n",
        "a.pop(1)\n",
        "print(a)"
      ],
      "metadata": {
        "colab": {
          "base_uri": "https://localhost:8080/"
        },
        "id": "6LhRZ9fCuOPp",
        "outputId": "73598dd7-cf08-4e66-ea6e-2d3569d9e7f8"
      },
      "execution_count": 24,
      "outputs": [
        {
          "output_type": "stream",
          "name": "stdout",
          "text": [
            "['apple', 'banana']\n",
            "['apple']\n"
          ]
        }
      ]
    },
    {
      "cell_type": "code",
      "source": [
        "fruit = [\"사과\",\"배\",\"오렌지\"]\n",
        "for i in fruit:\n",
        "  print(i)"
      ],
      "metadata": {
        "colab": {
          "base_uri": "https://localhost:8080/"
        },
        "id": "sOEA_PJbvJaS",
        "outputId": "5ff984ea-12df-4bb1-e4ca-2923e6b08645"
      },
      "execution_count": 25,
      "outputs": [
        {
          "output_type": "stream",
          "name": "stdout",
          "text": [
            "사과\n",
            "배\n",
            "오렌지\n"
          ]
        }
      ]
    },
    {
      "cell_type": "code",
      "source": [
        "fruit = [\"감\",\"밤\",\"대추\"]\n",
        "for i in range(len(fruit)):\n",
        "  print(fruit)"
      ],
      "metadata": {
        "colab": {
          "base_uri": "https://localhost:8080/"
        },
        "id": "PbGa-LIcvWad",
        "outputId": "d68dd361-be6c-4082-f808-a922ec17e8ef"
      },
      "execution_count": 26,
      "outputs": [
        {
          "output_type": "stream",
          "name": "stdout",
          "text": [
            "['감', '밤', '대추']\n",
            "['감', '밤', '대추']\n",
            "['감', '밤', '대추']\n"
          ]
        }
      ]
    },
    {
      "cell_type": "markdown",
      "source": [
        "SORT"
      ],
      "metadata": {
        "id": "MEEMqRsVvyUY"
      }
    },
    {
      "cell_type": "code",
      "source": [
        "a = [7,5,3,8,2,0,1,4,6,9]\n",
        "a.sort()\n",
        "print(a)\n"
      ],
      "metadata": {
        "colab": {
          "base_uri": "https://localhost:8080/"
        },
        "id": "jAHjV-cDvwgR",
        "outputId": "37e81a6e-920f-488d-baf7-ce8e8e47812b"
      },
      "execution_count": 27,
      "outputs": [
        {
          "output_type": "stream",
          "name": "stdout",
          "text": [
            "[0, 1, 2, 3, 4, 5, 6, 7, 8, 9]\n"
          ]
        }
      ]
    },
    {
      "cell_type": "code",
      "source": [
        "a = [7,5,3,8,2,0,1,4,6,9]\n",
        "a.sort(reverse = True)\n",
        "print(a)\n",
        "a.sort()\n",
        "print(a)"
      ],
      "metadata": {
        "colab": {
          "base_uri": "https://localhost:8080/"
        },
        "id": "rEJF5nBRwJTM",
        "outputId": "512d1a8a-92cb-408b-db57-1fc303dcdc8a"
      },
      "execution_count": 30,
      "outputs": [
        {
          "output_type": "stream",
          "name": "stdout",
          "text": [
            "[9, 8, 7, 6, 5, 4, 3, 2, 1, 0]\n",
            "[0, 1, 2, 3, 4, 5, 6, 7, 8, 9]\n"
          ]
        }
      ]
    },
    {
      "cell_type": "code",
      "source": [
        "fruit = [\"kiwi\",\"apple\",\"Orange\",\"banana\"]\n",
        "fruit.sort()\n",
        "print(fruit)\n",
        "fruit.sort(key=str.lower)\n",
        "print(fruit)\n",
        "fruit.reverse()\n",
        "print(fruit)"
      ],
      "metadata": {
        "colab": {
          "base_uri": "https://localhost:8080/"
        },
        "id": "PpYIboiuwpy1",
        "outputId": "2436817e-77d6-4dce-8daa-b07189449995"
      },
      "execution_count": 31,
      "outputs": [
        {
          "output_type": "stream",
          "name": "stdout",
          "text": [
            "['Orange', 'apple', 'banana', 'kiwi']\n",
            "['apple', 'banana', 'kiwi', 'Orange']\n"
          ]
        }
      ]
    },
    {
      "cell_type": "code",
      "source": [
        "# List 복사 \n",
        "fruit = [\"kiwi\",\"apple\",\"Orange\",\"banana\"]\n",
        "myList = fruit.copy()\n",
        "print(myList)\n",
        "cyList = list(fruit)\n",
        "print(cyList)\n"
      ],
      "metadata": {
        "colab": {
          "base_uri": "https://localhost:8080/"
        },
        "id": "0K1_-xPjzjzu",
        "outputId": "034306a3-e810-473a-cd1b-be553038f725"
      },
      "execution_count": 32,
      "outputs": [
        {
          "output_type": "stream",
          "name": "stdout",
          "text": [
            "['kiwi', 'apple', 'Orange', 'banana']\n"
          ]
        }
      ]
    },
    {
      "cell_type": "markdown",
      "source": [
        "2.Tuple 튜플"
      ],
      "metadata": {
        "id": "5QMmjVCP1KFK"
      }
    },
    {
      "cell_type": "code",
      "source": [
        "l = [1,2,3]\n",
        "t = (5,6,7)\n",
        "print(type(l))\n",
        "print(type(t))"
      ],
      "metadata": {
        "colab": {
          "base_uri": "https://localhost:8080/"
        },
        "id": "pYTgQptu1NMH",
        "outputId": "226b7c5e-4dbd-4da5-f017-d09e56939c86"
      },
      "execution_count": 34,
      "outputs": [
        {
          "output_type": "stream",
          "name": "stdout",
          "text": [
            "<class 'list'>\n",
            "<class 'tuple'>\n"
          ]
        }
      ]
    },
    {
      "cell_type": "code",
      "source": [
        "l = [1,2,3]\n",
        "t = (5,6,7)\n",
        "l[0] = 4\n",
        "print(l)\n",
        "# t[0] = 8\n",
        "print(t)"
      ],
      "metadata": {
        "colab": {
          "base_uri": "https://localhost:8080/"
        },
        "id": "ToL1OmbC1fYv",
        "outputId": "dfa86218-35cb-4195-f67f-ce66cce923ec"
      },
      "execution_count": 35,
      "outputs": [
        {
          "output_type": "stream",
          "name": "stdout",
          "text": [
            "[4, 2, 3]\n",
            "(5, 6, 7)\n"
          ]
        }
      ]
    },
    {
      "cell_type": "code",
      "source": [
        "f = (\"apple\",\"banana\",\"cherry\")\n",
        "print(len(f))"
      ],
      "metadata": {
        "colab": {
          "base_uri": "https://localhost:8080/"
        },
        "id": "LqC6HoOu2DYf",
        "outputId": "b80230ad-3da9-48b4-f9ac-1af3cf92648d"
      },
      "execution_count": 36,
      "outputs": [
        {
          "output_type": "stream",
          "name": "stdout",
          "text": [
            "3\n"
          ]
        }
      ]
    },
    {
      "cell_type": "code",
      "source": [
        "t = ('kiwi')\n",
        "print(t)\n",
        "print(type(t))"
      ],
      "metadata": {
        "colab": {
          "base_uri": "https://localhost:8080/"
        },
        "id": "ycxQHV-G2QFi",
        "outputId": "7af5e06a-04ee-4e67-86e6-02775bcc215b"
      },
      "execution_count": 37,
      "outputs": [
        {
          "output_type": "stream",
          "name": "stdout",
          "text": [
            "kiwi\n",
            "<class 'str'>\n"
          ]
        }
      ]
    },
    {
      "cell_type": "code",
      "source": [
        "t = (\"kiwi\",)\n",
        "print(t)\n",
        "print(type(t))"
      ],
      "metadata": {
        "colab": {
          "base_uri": "https://localhost:8080/"
        },
        "id": "V2g80q3d2alb",
        "outputId": "0cb69b4d-ccd1-4051-d30f-63d77efd1228"
      },
      "execution_count": 38,
      "outputs": [
        {
          "output_type": "stream",
          "name": "stdout",
          "text": [
            "('kiwi',)\n",
            "<class 'tuple'>\n"
          ]
        }
      ]
    },
    {
      "cell_type": "code",
      "source": [
        "t = (\"kiwi\",)  #튜플로 인식하기 위해 \",\"필요\n",
        "print(t)\n",
        "print(type(t))"
      ],
      "metadata": {
        "colab": {
          "base_uri": "https://localhost:8080/"
        },
        "id": "4RPsFjd72rMo",
        "outputId": "d6af4a35-9a34-4144-b73b-58c23f308962"
      },
      "execution_count": 39,
      "outputs": [
        {
          "output_type": "stream",
          "name": "stdout",
          "text": [
            "('kiwi',)\n",
            "<class 'tuple'>\n"
          ]
        }
      ]
    },
    {
      "cell_type": "code",
      "source": [
        "f = (\"banana\",\"apple\",\"kiwi\",\"cherry\", \"Orange\")\n",
        "print(f[:4])\n",
        "print(f[3:])"
      ],
      "metadata": {
        "colab": {
          "base_uri": "https://localhost:8080/"
        },
        "id": "uKHK9gz124JG",
        "outputId": "f0243c46-83dc-43f4-eeab-6d5273fc53f9"
      },
      "execution_count": 41,
      "outputs": [
        {
          "output_type": "stream",
          "name": "stdout",
          "text": [
            "('banana', 'apple', 'kiwi', 'cherry')\n",
            "('cherry', 'Orange')\n"
          ]
        }
      ]
    },
    {
      "cell_type": "code",
      "source": [
        "f = (\"banana\",\"apple\",\"kiwi\",\"cherry\", \"Orange\")\n",
        "if \"apple\" in f:\n",
        "   print(\"yes\")\n",
        "else:\n",
        "   print(\"no\")\n"
      ],
      "metadata": {
        "colab": {
          "base_uri": "https://localhost:8080/"
        },
        "id": "c2Umu3KH3Kre",
        "outputId": "1cab7d55-cd13-45e2-e45b-b5b920cadfa7"
      },
      "execution_count": 45,
      "outputs": [
        {
          "output_type": "stream",
          "name": "stdout",
          "text": [
            "yes\n"
          ]
        }
      ]
    },
    {
      "cell_type": "markdown",
      "source": [
        "Tuple<->List"
      ],
      "metadata": {
        "id": "d0U6-Afo376y"
      }
    },
    {
      "cell_type": "code",
      "source": [
        "# 튜플에 추가하는 방법 \n",
        "t = (\"apple\",\"banana\",\"cherry\")\n",
        "y = list(t)\n",
        "print(type(y))\n",
        "y.append(\"Orange\")\\\n",
        "t = tuple(y)\n",
        "print(t)"
      ],
      "metadata": {
        "colab": {
          "base_uri": "https://localhost:8080/"
        },
        "id": "s3Tp1ig437Bl",
        "outputId": "fb190133-1691-46dc-ee00-b7dce17ce006"
      },
      "execution_count": 46,
      "outputs": [
        {
          "output_type": "stream",
          "name": "stdout",
          "text": [
            "<class 'list'>\n"
          ]
        }
      ]
    },
    {
      "cell_type": "code",
      "source": [
        "# List -> Tuple \n",
        "company = [\"LG\",\"SK\",\"Apple\"]\n",
        "t = tuple(company)\n",
        "print(type(company))\n",
        "print(type(t))\n",
        "print(company)\n",
        "print(t)"
      ],
      "metadata": {
        "colab": {
          "base_uri": "https://localhost:8080/"
        },
        "id": "WtRF9TSn5Xjw",
        "outputId": "59af3168-a8f4-42db-de6e-95d47870a8b5"
      },
      "execution_count": 49,
      "outputs": [
        {
          "output_type": "stream",
          "name": "stdout",
          "text": [
            "<class 'list'>\n",
            "<class 'tuple'>\n",
            "['LG', 'SK', 'Apple']\n",
            "('LG', 'SK', 'Apple')\n"
          ]
        }
      ]
    },
    {
      "cell_type": "code",
      "source": [
        "c = (\"LG\",\"SK\",\"Apple\")\n",
        "d = (\"Samsung\",)\n",
        "c += d  #c = c + d\n",
        "print(c)\n"
      ],
      "metadata": {
        "colab": {
          "base_uri": "https://localhost:8080/"
        },
        "id": "_N4qpibk6IXK",
        "outputId": "ec7cf348-83da-4a6c-f310-85db38975765"
      },
      "execution_count": 51,
      "outputs": [
        {
          "output_type": "stream",
          "name": "stdout",
          "text": [
            "('LG', 'SK', 'Apple', 'Samsung')\n"
          ]
        }
      ]
    },
    {
      "cell_type": "code",
      "source": [
        "t = (\"감\",\"밤\",\"대추\")\n",
        "l = list(t)\n",
        "l.remove(\"대추\")\n",
        "t = tuple(l)\n",
        "print(t)\n"
      ],
      "metadata": {
        "colab": {
          "base_uri": "https://localhost:8080/"
        },
        "id": "zD4-s9ei6ubM",
        "outputId": "4b10dc06-16ff-40aa-becc-39711c500a1a"
      },
      "execution_count": 52,
      "outputs": [
        {
          "output_type": "stream",
          "name": "stdout",
          "text": [
            "('감', '밤')\n"
          ]
        }
      ]
    },
    {
      "cell_type": "markdown",
      "source": [
        "## 3.Dict 사전자료형형"
      ],
      "metadata": {
        "id": "RcudukcKBp17"
      }
    },
    {
      "cell_type": "code",
      "source": [
        "d = {\n",
        "    \"a\":1,\n",
        "    \"b\":2,\n",
        "    \"c\":3  \n",
        "}\n",
        "print(d)\n",
        "print(type(d))"
      ],
      "metadata": {
        "colab": {
          "base_uri": "https://localhost:8080/"
        },
        "id": "lREh2UXMBsm2",
        "outputId": "dd73db24-4689-475f-d044-afa83ab6d1fd"
      },
      "execution_count": 53,
      "outputs": [
        {
          "output_type": "stream",
          "name": "stdout",
          "text": [
            "{'a': 1, 'b': 2, 'c': 3}\n",
            "<class 'dict'>\n"
          ]
        }
      ]
    },
    {
      "cell_type": "code",
      "source": [
        "d = {\n",
        "    \"a\":1,\n",
        "    \"b\":2,\n",
        "    \"c\":3  \n",
        "}\n",
        "print(d.keys())\n",
        "print(d.values())\n",
        "print(d.items())"
      ],
      "metadata": {
        "colab": {
          "base_uri": "https://localhost:8080/"
        },
        "id": "VC2-5MwaCNQO",
        "outputId": "c073d857-2e29-4098-8687-1ce3de3de74f"
      },
      "execution_count": 54,
      "outputs": [
        {
          "output_type": "stream",
          "name": "stdout",
          "text": [
            "dict_keys(['a', 'b', 'c'])\n",
            "dict_values([1, 2, 3])\n",
            "dict_items([('a', 1), ('b', 2), ('c', 3)])\n"
          ]
        }
      ]
    },
    {
      "cell_type": "code",
      "source": [
        "car = {\n",
        "    \"maker\" : \"Hyundai\",\n",
        "    \"model\" : \"pony2\",\n",
        "    \"year\"  : 1994\n",
        "    }\n",
        "print(car)\n",
        "print(len(car))\n",
        "car[\"year\"] = 2000\n",
        "print(car)\n",
        "car [\"color\"] = \"Blue\"\n",
        "print(car)\n",
        "print(car[\"maker\"])"
      ],
      "metadata": {
        "colab": {
          "base_uri": "https://localhost:8080/"
        },
        "id": "89hbCn_gClM7",
        "outputId": "5cdad95e-be78-4724-c254-fd12c5088ad0"
      },
      "execution_count": 60,
      "outputs": [
        {
          "output_type": "stream",
          "name": "stdout",
          "text": [
            "{'maker': 'Hyundai', 'model': 'pony2', 'year': 1994}\n",
            "3\n",
            "{'maker': 'Hyundai', 'model': 'pony2', 'year': 2000}\n",
            "{'maker': 'Hyundai', 'model': 'pony2', 'year': 2000, 'color': 'Blue'}\n",
            "Hyundai\n"
          ]
        }
      ]
    },
    {
      "cell_type": "code",
      "source": [
        "car = {\n",
        "    \"maker\" : \"BMW\",\n",
        "    \"model\" : \"740Li\",\n",
        "    \"year\" : 2023\n",
        "}\n",
        "car.pop(\"model\")#해당 키값을 삭제\n",
        "print(car)\n"
      ],
      "metadata": {
        "colab": {
          "base_uri": "https://localhost:8080/"
        },
        "id": "EQtMvOErEZAD",
        "outputId": "a0a06f4a-5408-40bf-85c5-fcfbef1e1f6f"
      },
      "execution_count": 62,
      "outputs": [
        {
          "output_type": "stream",
          "name": "stdout",
          "text": [
            "{'maker': 'BMW', 'year': 2023}\n"
          ]
        }
      ]
    },
    {
      "cell_type": "code",
      "source": [
        "car = {\n",
        "    \"maker\" : \"BMW\",\n",
        "    \"model\" : \"GT\",\n",
        "    \"year\" : 2023\n",
        "}\n",
        "car.clear() #비움\n",
        "print(car)\n",
        "car[\"maker\"] =\"KIA\"\n",
        "print(car)\n"
      ],
      "metadata": {
        "colab": {
          "base_uri": "https://localhost:8080/"
        },
        "id": "i2M1uP43FQKn",
        "outputId": "743f2781-0494-45f9-b835-b7604f908c6d"
      },
      "execution_count": 64,
      "outputs": [
        {
          "output_type": "stream",
          "name": "stdout",
          "text": [
            "{}\n",
            "{'maker': 'KIA'}\n"
          ]
        }
      ]
    },
    {
      "cell_type": "code",
      "source": [
        "car = {\n",
        "    \"maker\" : \"BMW\",\n",
        "    \"model\" : \"GT\",\n",
        "    \"year\" : 2023\n",
        "}\n",
        "del car\n",
        "# print (car)\n"
      ],
      "metadata": {
        "id": "g3zhQXtuFny5"
      },
      "execution_count": null,
      "outputs": []
    },
    {
      "cell_type": "code",
      "source": [
        "car = {\n",
        "    \"maker\" : \"BMW\",\n",
        "    \"model\" : \"GT\",\n",
        "    \"year\" : 2023\n",
        "}\n",
        "car.popitem()\n",
        "print(car)"
      ],
      "metadata": {
        "id": "WJq5PorvF_vj"
      },
      "execution_count": null,
      "outputs": []
    },
    {
      "cell_type": "code",
      "source": [
        "car = {\n",
        "    \"maker\" : \"BMW\",\n",
        "    \"model\" : \"GT\",\n",
        "    \"year\" : 2023\n",
        "}\n",
        "for x in car:\n",
        "  print(car[x])"
      ],
      "metadata": {
        "colab": {
          "base_uri": "https://localhost:8080/"
        },
        "id": "YV5HcEvjGIQd",
        "outputId": "7de2aa98-ad45-4bf0-c1d6-a0cd8b93bda3"
      },
      "execution_count": 65,
      "outputs": [
        {
          "output_type": "stream",
          "name": "stdout",
          "text": [
            "BMW\n",
            "GT\n",
            "2023\n"
          ]
        }
      ]
    },
    {
      "cell_type": "code",
      "source": [
        "car = {\n",
        "    \"maker\" : \"BMW\",\n",
        "    \"model\" : \"i4\",\n",
        "    \"year\" : 2023\n",
        "}\n",
        "for x in car.keys():\n",
        "  print(x)\n",
        "  "
      ],
      "metadata": {
        "colab": {
          "base_uri": "https://localhost:8080/"
        },
        "id": "J_3kiIecGS6T",
        "outputId": "5b472b56-22cf-4519-cae4-e84eb1d5850d"
      },
      "execution_count": 66,
      "outputs": [
        {
          "output_type": "stream",
          "name": "stdout",
          "text": [
            "maker\n",
            "model\n",
            "year\n"
          ]
        }
      ]
    },
    {
      "cell_type": "code",
      "source": [
        "car = {\n",
        "    \"maker\" : \"BMW\",\n",
        "    \"model\" : \"GT\",\n",
        "    \"year\" : 2023\n",
        "}\n",
        "for x in car.values():\n",
        "  print(x)"
      ],
      "metadata": {
        "colab": {
          "base_uri": "https://localhost:8080/"
        },
        "id": "xj-O7VJaGg2s",
        "outputId": "ad5b2708-5811-4a4f-80a0-08a217fc1cff"
      },
      "execution_count": 67,
      "outputs": [
        {
          "output_type": "stream",
          "name": "stdout",
          "text": [
            "BMW\n",
            "GT\n",
            "2023\n"
          ]
        }
      ]
    },
    {
      "cell_type": "code",
      "source": [
        "car = {\n",
        "    \"maker\" : \"BMW\",\n",
        "    \"model\" : \"GT\",\n",
        "    \"year\" : 2023\n",
        "}\n",
        "for x,y in car. items():\n",
        "  print(x,y)"
      ],
      "metadata": {
        "colab": {
          "base_uri": "https://localhost:8080/"
        },
        "id": "s158PwamGtGM",
        "outputId": "9cd1bff1-1159-4582-a5d0-a2f3f4ecf521"
      },
      "execution_count": 68,
      "outputs": [
        {
          "output_type": "stream",
          "name": "stdout",
          "text": [
            "maker BMW\n",
            "model GT\n",
            "year 2023\n"
          ]
        }
      ]
    },
    {
      "cell_type": "code",
      "source": [
        "car = {\n",
        "    \"maker\" : \"BMW\",\n",
        "    \"model\" : \"GT\",\n",
        "    \"year\" : 2023\n",
        "}\n",
        "myCar = car.copy():\n",
        "print(myCar)\n"
      ],
      "metadata": {
        "colab": {
          "base_uri": "https://localhost:8080/",
          "height": 137
        },
        "id": "pDHpp7u5H4vO",
        "outputId": "70941c37-40ea-4d38-ffe8-ecca886f610a"
      },
      "execution_count": 69,
      "outputs": [
        {
          "output_type": "error",
          "ename": "SyntaxError",
          "evalue": "ignored",
          "traceback": [
            "\u001b[0;36m  File \u001b[0;32m\"<ipython-input-69-1ab2b721eab5>\"\u001b[0;36m, line \u001b[0;32m6\u001b[0m\n\u001b[0;31m    myCar = car.copy():\u001b[0m\n\u001b[0m                      ^\u001b[0m\n\u001b[0;31mSyntaxError\u001b[0m\u001b[0;31m:\u001b[0m invalid syntax\n"
          ]
        }
      ]
    },
    {
      "cell_type": "code",
      "source": [
        "food = {\n",
        "    \"brand\" : \"Lotte\",\n",
        "    \"model\" : \"ice Cream\",\n",
        "    \"price\" : 2000\n",
        "}\n",
        "myFood = dict(food)\n",
        "print(myFood)"
      ],
      "metadata": {
        "colab": {
          "base_uri": "https://localhost:8080/"
        },
        "id": "VGQgJNC3IK54",
        "outputId": "fe9ffc9a-6ef3-463a-b5d4-d0a8f65e98b0"
      },
      "execution_count": 71,
      "outputs": [
        {
          "output_type": "stream",
          "name": "stdout",
          "text": [
            "{'brand': 'Lotte', 'model': 'ice Cream', 'price': 2000}\n"
          ]
        }
      ]
    },
    {
      "cell_type": "code",
      "source": [
        "name1 = {\"name\":\"김우석\",\"year\": 1900}\n",
        "name2 = {\"name\":\"홍길동\",\"year\": 1800}\n",
        "name3 = {\"name\":\"윤웅배\",\"year\": 2000}\n",
        "family = {\n",
        "    \"name1\" : name1,\n",
        "    \"name2\" : name2,\n",
        "    \"name3\" : name3\n",
        "}\n",
        "print(family)"
      ],
      "metadata": {
        "colab": {
          "base_uri": "https://localhost:8080/"
        },
        "id": "zAF38cPIIgue",
        "outputId": "fe6c3d2f-1613-4b69-c506-9cdf732c1704"
      },
      "execution_count": 72,
      "outputs": [
        {
          "output_type": "stream",
          "name": "stdout",
          "text": [
            "{'name1': {'name': '김우석', 'year': 1900}, 'name2': {'name': '홍길동', 'year': 1800}, 'name3': {'name': '윤웅배', 'year': 2000}}\n"
          ]
        }
      ]
    },
    {
      "cell_type": "code",
      "source": [
        "name1 = {\n",
        "    \"name\" : \"\",\n",
        "    \"number\" : \"\",\n",
        "    }\n",
        "name2 = {\n",
        "    \"name\" : \"\",\n",
        "    \"number\" : \"\",\n",
        "    }\n",
        "name3 = {\n",
        "    \"name\" : \"\",\n",
        "    \"number\" : \"\",\n",
        "    }\n",
        "priviate1 =(input(\"첫번째 인물에 이름을 입력해주세요\"))\n",
        "name1[\"name\"] = (priviate1)\n",
        "num1 =(input(\"첫번째 인물에 전화번호를 입력해주세요\"))\n",
        "name1[\"number\"] = (num1)\n",
        "\n",
        "priviate2 =(input(\"2번째 인물에 이름을 입력해주세요\"))\n",
        "name2[\"name\"] = (priviate2)\n",
        "num2 =(input(\"2번째 인물에 전화번호를 입력해주세요\"))\n",
        "name2[\"number\"] = (num2)\n",
        "\n",
        "priviate3 =(input(\"3번째 인물에 이름을 입력해주세요\"))\n",
        "name3[\"name\"] = (priviate3)\n",
        "num3 =(input(\"3번째 인물에 전화번호를 입력해주세요\"))\n",
        "name3[\"number\"] = (num3)\n",
        "\n",
        "family = {\n",
        "    \"name1\" : name1,\n",
        "    \"name2\" : name2,\n",
        "    \"name3\" : name3\n",
        "}\n",
        "print(family)\n"
      ],
      "metadata": {
        "colab": {
          "base_uri": "https://localhost:8080/",
          "height": 137
        },
        "id": "ZLSZ_wRoKS4c",
        "outputId": "e32704a2-d400-43ca-e8ca-16e3f06f7faa"
      },
      "execution_count": 79,
      "outputs": [
        {
          "output_type": "error",
          "ename": "SyntaxError",
          "evalue": "ignored",
          "traceback": [
            "\u001b[0;36m  File \u001b[0;32m\"<ipython-input-79-4d2924c98078>\"\u001b[0;36m, line \u001b[0;32m13\u001b[0m\n\u001b[0;31m    for  i in name(i)\u001b[0m\n\u001b[0m                     ^\u001b[0m\n\u001b[0;31mSyntaxError\u001b[0m\u001b[0;31m:\u001b[0m invalid syntax\n"
          ]
        }
      ]
    },
    {
      "cell_type": "code",
      "source": [],
      "metadata": {
        "id": "72SX83WUKdYM"
      },
      "execution_count": null,
      "outputs": []
    }
  ]
}