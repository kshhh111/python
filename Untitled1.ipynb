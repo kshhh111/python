{
  "nbformat": 4,
  "nbformat_minor": 0,
  "metadata": {
    "colab": {
      "provenance": [],
      "authorship_tag": "ABX9TyPGoXv8Ky/bIXpMFzgKEueq",
      "include_colab_link": true
    },
    "kernelspec": {
      "name": "python3",
      "display_name": "Python 3"
    },
    "language_info": {
      "name": "python"
    }
  },
  "cells": [
    {
      "cell_type": "markdown",
      "metadata": {
        "id": "view-in-github",
        "colab_type": "text"
      },
      "source": [
        "<a href=\"https://colab.research.google.com/github/kshhh111/python/blob/main/Untitled1.ipynb\" target=\"_parent\"><img src=\"https://colab.research.google.com/assets/colab-badge.svg\" alt=\"Open In Colab\"/></a>"
      ]
    },
    {
      "cell_type": "markdown",
      "source": [
        "\n",
        "\n",
        "```\n",
        "# 코드로 형식 지정됨\n",
        "``` # CH1. 파이썬 문법\n",
        "## 자료형\n",
        "**숫자형**\n",
        " *정수 : 123, 456, 0, -30  \n",
        " *실수 : 12.345, -987.65 , 0.7e6   \n",
        " *8진수 : 0o765, 0o123  \n",
        " *16진수 : 0x0ㅇ, 0x0A, 0xFF  \n",
        "\n",
        "**변수** \n",
        "  *문자 또는 밑줄로 시작 (_KIM, alpha)  \n",
        "  *대소문자 구분(sum, Sum,SUM)\n",
        "  *영문자, 숫자, 밑줄(A-Z, 0-9,_)  \n",
        "  ex) sun_9, Alpha, s9n)\n",
        "  * 파이썬 키워드 (print....)  \n",
        "**표기법**   \n",
        "+ 카멜(낙타) : myName\n",
        "+ 스네이크(뱀) : my_name\n",
        "+ 파스칼 : myName\n",
        "a = 10\n",
        "b = 10\n",
        "f = \"10\"\n",
        "c = a + b\n",
        "print(a,b,c,f)\n",
        "\n"
      ],
      "metadata": {
        "id": "nEtKLL8LiGlF"
      }
    },
    {
      "cell_type": "code",
      "source": [
        "a=10\n",
        "b=3\n",
        "c = a /b\n",
        "d = a // b #몫\n",
        "e = a % b # 나머지\n",
        "print(c,d,e)"
      ],
      "metadata": {
        "colab": {
          "base_uri": "https://localhost:8080/",
          "height": 137
        },
        "id": "PWMdmmkcl0pK",
        "outputId": "9ebce373-5ab5-4869-85d6-3a6557b9a39e"
      },
      "execution_count": null,
      "outputs": [
        {
          "output_type": "error",
          "ename": "SyntaxError",
          "evalue": "ignored",
          "traceback": [
            "\u001b[0;36m  File \u001b[0;32m\"<ipython-input-8-99ec44c999d0>\"\u001b[0;36m, line \u001b[0;32m3\u001b[0m\n\u001b[0;31m    c = a /b \\n\u001b[0m\n\u001b[0m              ^\u001b[0m\n\u001b[0;31mSyntaxError\u001b[0m\u001b[0;31m:\u001b[0m unexpected character after line continuation character\n"
          ]
        }
      ]
    },
    {
      "cell_type": "code",
      "source": [
        "#곱셈\n",
        "a = 10 \n",
        "b = 3\n",
        "c = a * b #일반 곱하기기\n",
        "d = a**b #제곱곱\n",
        "print(c,d)"
      ],
      "metadata": {
        "colab": {
          "base_uri": "https://localhost:8080/"
        },
        "id": "a-c_mKiErc0J",
        "outputId": "ea3dede3-8c4d-4f1b-8d65-635493113089"
      },
      "execution_count": null,
      "outputs": [
        {
          "output_type": "stream",
          "name": "stdout",
          "text": [
            "30 1000\n"
          ]
        }
      ]
    },
    {
      "cell_type": "markdown",
      "source": [
        "#### 문자열 \n",
        "1. 큰따옴표 : \"WOOSEOK KIM\"\n",
        "2. 작은 따옴표 : ' WOOSEOK KIM'\n",
        "3. 큰따옴표 3개 : \"\"\"대한민국\"\"\"\n",
        "4.작은 따옴표 3개 : ''' 대한민국'''\n",
        "5. \"동해물과 백두산이 마르고 닳도록\n",
        "kim\\'s"
      ],
      "metadata": {
        "id": "0vAPjxyuroW-"
      }
    },
    {
      "cell_type": "code",
      "source": [
        "# 변수수\n",
        "myName = \"Kim Woos Seok\"\n",
        "my_name = \"김우석\"\n",
        "_my_name = \"korea\"\n",
        "MYNAME = \"코리아\"\n",
        "my2name = \"KR\"\n",
        "#2myname = \"hahaha\"\n",
        "#my-name = \"dsadas\"\n",
        "#my name = \"space\" \n",
        "myName1 = 1234\n",
        "myName2 = \"1234\"\n",
        "print(type(myName1))\n",
        "print(type(myName2))\n"
      ],
      "metadata": {
        "colab": {
          "base_uri": "https://localhost:8080/"
        },
        "id": "1BboLnblsbc9",
        "outputId": "8661c7e0-570a-4b94-f652-d7198fa6f795"
      },
      "execution_count": null,
      "outputs": [
        {
          "output_type": "stream",
          "name": "stdout",
          "text": [
            "<class 'int'>\n",
            "<class 'str'>\n"
          ]
        }
      ]
    },
    {
      "cell_type": "code",
      "source": [],
      "metadata": {
        "id": "WKLYwsbivEaG"
      },
      "execution_count": null,
      "outputs": []
    },
    {
      "cell_type": "markdown",
      "source": [
        "#변수할당"
      ],
      "metadata": {
        "id": "qnTNtvf0vAab"
      }
    },
    {
      "cell_type": "code",
      "source": [
        "a,b,c = \"딸기\",\"포도\",\"바나나\"\n",
        "print(a)\n",
        "print(b)\n",
        "print(c)"
      ],
      "metadata": {
        "colab": {
          "base_uri": "https://localhost:8080/"
        },
        "id": "Di4nPJg4vFsT",
        "outputId": "1a41489d-bdae-4a9d-f7ef-ad61b6212e0f"
      },
      "execution_count": null,
      "outputs": [
        {
          "output_type": "stream",
          "name": "stdout",
          "text": [
            "딸기\n",
            "포도\n",
            "바나나\n"
          ]
        }
      ]
    },
    {
      "cell_type": "markdown",
      "source": [],
      "metadata": {
        "id": "qBxYP1hiw5O4"
      }
    },
    {
      "cell_type": "code",
      "source": [
        "fruits = [\"누가바\",\"쌍쌍바\",\"보석바\"]\n",
        "x,y,z = fruits\n",
        "print(x)\n",
        "print(y)\n",
        "print(z)"
      ],
      "metadata": {
        "colab": {
          "base_uri": "https://localhost:8080/"
        },
        "id": "pR5VNE_cv7I6",
        "outputId": "927e10f7-f0e4-4dd8-d066-6aef883a1137"
      },
      "execution_count": null,
      "outputs": [
        {
          "output_type": "stream",
          "name": "stdout",
          "text": [
            "누가바\n",
            "쌍쌍바\n",
            "보석바\n"
          ]
        }
      ]
    },
    {
      "cell_type": "code",
      "source": [
        "x = \"Life\"\n",
        "y = \" is\"\n",
        "z = \" beautiful!\"\n",
        "print (x,y,z)\n",
        "print(x+y+z)"
      ],
      "metadata": {
        "colab": {
          "base_uri": "https://localhost:8080/"
        },
        "id": "jIRtAWeXwji3",
        "outputId": "3638f3b3-1305-4a1d-989b-f873458a3f9d"
      },
      "execution_count": null,
      "outputs": [
        {
          "output_type": "stream",
          "name": "stdout",
          "text": [
            "Life  is  beautiful!\n",
            "Life is beautiful!\n"
          ]
        }
      ]
    },
    {
      "cell_type": "code",
      "source": [
        "a = '1'\n",
        "b = '2' \n",
        "c = '3'\n",
        "print(a+b+c)\n",
        "print(a,b,c)"
      ],
      "metadata": {
        "colab": {
          "base_uri": "https://localhost:8080/"
        },
        "id": "WqSe4d2TxBil",
        "outputId": "ef6912b3-32f9-4ccc-852b-3f4a7a6a8813"
      },
      "execution_count": null,
      "outputs": [
        {
          "output_type": "stream",
          "name": "stdout",
          "text": [
            "123\n",
            "1 2 3\n"
          ]
        }
      ]
    },
    {
      "cell_type": "code",
      "source": [
        "a=1;b=2;c=3;\n",
        "f = a+ b + \\\n",
        "c\n",
        "print(c)"
      ],
      "metadata": {
        "colab": {
          "base_uri": "https://localhost:8080/"
        },
        "id": "kMHp3iAx8hNv",
        "outputId": "14d73938-044d-47ef-896b-139e0b48f6c4"
      },
      "execution_count": null,
      "outputs": [
        {
          "output_type": "stream",
          "name": "stdout",
          "text": [
            "3\n"
          ]
        }
      ]
    },
    {
      "cell_type": "code",
      "source": [
        "#len\n",
        "\n",
        "a = 1,2,3,4,5,6\n",
        "print(len(a))"
      ],
      "metadata": {
        "colab": {
          "base_uri": "https://localhost:8080/"
        },
        "id": "c7KcHKvy8-0o",
        "outputId": "ef21b125-0641-4de4-9911-4944d9857042"
      },
      "execution_count": null,
      "outputs": [
        {
          "output_type": "stream",
          "name": "stdout",
          "text": [
            "6\n"
          ]
        }
      ]
    },
    {
      "cell_type": "code",
      "source": [
        "#len\n",
        "\n",
        "a = \"123456\"\n",
        "b = [2,3,4,5]\n",
        "print(len(a))\n",
        "print(len(b))"
      ],
      "metadata": {
        "colab": {
          "base_uri": "https://localhost:8080/"
        },
        "id": "ayu1fOfS9Nao",
        "outputId": "3c65c7fc-bc19-4dab-c770-2bc530d4501f"
      },
      "execution_count": null,
      "outputs": [
        {
          "output_type": "stream",
          "name": "stdout",
          "text": [
            "6\n",
            "4\n"
          ]
        }
      ]
    },
    {
      "cell_type": "code",
      "source": [
        "a=100\n",
        "b=200\n",
        "result = a+b\n",
        "\n",
        "print( a,'+',b,'=',result)\n",
        "result= a-b\n",
        "print(a, '-', b,'=',result) \n",
        "result = a/ b\n",
        "print(a, '/', b,'=',result) \n",
        "result = a % b\n",
        "print(a, '%', b,'=',result) \n",
        "result = a * b\n",
        "print(a, 'X', b,'=',result) \n",
        "\n",
        "\n"
      ],
      "metadata": {
        "colab": {
          "base_uri": "https://localhost:8080/"
        },
        "id": "RoKtt8Xa9YMn",
        "outputId": "2bb2b647-a91f-4959-a3ce-cb98e33c7a9b"
      },
      "execution_count": null,
      "outputs": [
        {
          "output_type": "stream",
          "name": "stdout",
          "text": [
            "100 + 200 = 300\n",
            "100 - 200 = -100\n",
            "100 / 200 = 0.5\n",
            "100 % 200 = 100\n",
            "100 X 200 = 20000\n"
          ]
        }
      ]
    },
    {
      "cell_type": "code",
      "source": [
        "a = \"1234\"\n",
        "b = 5678\n",
        "c = int(a) + b\n",
        "print(c)"
      ],
      "metadata": {
        "colab": {
          "base_uri": "https://localhost:8080/"
        },
        "id": "WUfYglEkAz2X",
        "outputId": "9ed72484-d940-465c-d3a0-4dc504b18470"
      },
      "execution_count": null,
      "outputs": [
        {
          "output_type": "stream",
          "name": "stdout",
          "text": [
            "6912\n"
          ]
        }
      ]
    },
    {
      "cell_type": "code",
      "source": [
        "# 계산기2 \n",
        "num1 = int(input(\"숫자입력1: \"))\n",
        "num2 = int(input(\"숫자입력2: \"))\n",
        "print(type(num1))\n",
        "\n",
        "result = num1+ num2\n",
        "\n",
        "print(result)"
      ],
      "metadata": {
        "colab": {
          "base_uri": "https://localhost:8080/"
        },
        "id": "wG1ZEtFHBFVH",
        "outputId": "ef10c3dc-4d14-47c6-ef38-0c12e6544441"
      },
      "execution_count": null,
      "outputs": [
        {
          "output_type": "stream",
          "name": "stdout",
          "text": [
            "숫자입력1: 1\n",
            "숫자입력2: 2\n",
            "<class 'int'>\n",
            "3\n"
          ]
        }
      ]
    },
    {
      "cell_type": "code",
      "source": [
        "#계산기3 \n",
        "\n",
        "num1 = int(input(\"숫자 입력1: \"))\n",
        "num2 = int(input(\"숫자 입력2: \"))\n",
        "\n",
        "result = num1 + num2 \n",
        "print( num1 '+' num2 '=' result)\n",
        "\n",
        "\n"
      ],
      "metadata": {
        "id": "B-L87gfiB_dJ"
      },
      "execution_count": null,
      "outputs": []
    },
    {
      "cell_type": "code",
      "source": [
        "char1 = input(\"자기이름: \")\n",
        "num2 = int(input(\"전화번호:  \"))\n",
        "num3 = int(input(\"택배 무게 입력: \"))\n",
        "print(type(char1))\n",
        "print(type(num1))\n",
        "print(type(num2))\n",
        "print(char1)\n",
        "print(num2) \n",
        "\n",
        "killogram = num3 * 100\n",
        "print(num3,'g', '*', 100,'원', '=', killogram,'원')"
      ],
      "metadata": {
        "colab": {
          "base_uri": "https://localhost:8080/"
        },
        "id": "ETO2hPZ9D1h3",
        "outputId": "a3d1d1c6-3d23-4e6a-9d39-4de613053a75"
      },
      "execution_count": null,
      "outputs": [
        {
          "output_type": "stream",
          "name": "stdout",
          "text": [
            "자기이름: 김우석\n",
            "전화번호:  01051893743\n",
            "택배 무게 입력: 200\n",
            "<class 'str'>\n",
            "<class 'int'>\n",
            "<class 'int'>\n",
            "김우석\n",
            "1051893743\n",
            "200 g * 100 원 = 20000 원\n"
          ]
        }
      ]
    },
    {
      "cell_type": "code",
      "source": [
        "num1 = int(100)\n",
        "num2 = int(200)\n",
        "result = num1 + num2\n",
        "print( num1,'+',num2, '=' , result)\n"
      ],
      "metadata": {
        "colab": {
          "base_uri": "https://localhost:8080/"
        },
        "id": "GEIeCTovfagD",
        "outputId": "f1ac62c1-cec3-48ec-9307-48840036a632"
      },
      "execution_count": null,
      "outputs": [
        {
          "output_type": "stream",
          "name": "stdout",
          "text": [
            "100 + 200 = 300\n"
          ]
        }
      ]
    },
    {
      "cell_type": "code",
      "source": [
        "a = 2 \n",
        "b = 2.0\n",
        "if a == b:\n",
        "    print(\"a는 b와 같음\")\n",
        "elif a > b: \n",
        "    print(\"a가 b보다 큼\")\n",
        "else : \n",
        "   print(\"a가 b보다 작음\")"
      ],
      "metadata": {
        "colab": {
          "base_uri": "https://localhost:8080/"
        },
        "id": "MPfftAmTgwP7",
        "outputId": "96977db9-3f7a-42e6-85da-489c26320ff5"
      },
      "execution_count": null,
      "outputs": [
        {
          "output_type": "stream",
          "name": "stdout",
          "text": [
            "a는 b와 같음\n"
          ]
        }
      ]
    },
    {
      "cell_type": "code",
      "source": [
        "  print(\"%d\" % 123)\n",
        "  print(\"%5d\" % 123)\n",
        "  print(\"%05d\" % 123)\n",
        "\n",
        "  print(\"%f % 123.45\")\n",
        "  print(\"%7.1f\" % 123.45)\n",
        "  print(\"%7.3f\" % 123.45)\n",
        "\n",
        "  print(\"%c\" % \"1\")\n",
        "  print(\"%s\" % \"가나다라\")\n",
        "  print(\"%6s\" % \"가나다라\")\n",
        "  print(\"%6s\" % \"abcd\")"
      ],
      "metadata": {
        "colab": {
          "base_uri": "https://localhost:8080/"
        },
        "id": "FyAoVKe9h-sX",
        "outputId": "31f8f694-5d1b-4e0a-d256-4559f0e140c3"
      },
      "execution_count": null,
      "outputs": [
        {
          "output_type": "stream",
          "name": "stdout",
          "text": [
            "123\n",
            "  123\n",
            "00123\n",
            "%f % 123.45\n",
            "  123.5\n",
            "123.450\n",
            "1\n",
            "가나다라\n",
            "  가나다라\n",
            "  abcd\n"
          ]
        }
      ]
    },
    {
      "cell_type": "code",
      "source": [
        "print(\"{0:d} {1:5d} {2:05d}\". format(123,456,789))"
      ],
      "metadata": {
        "colab": {
          "base_uri": "https://localhost:8080/"
        },
        "id": "tpl2bbizkmMU",
        "outputId": "ed622f4a-461b-4660-921d-141f8f28e858"
      },
      "execution_count": null,
      "outputs": [
        {
          "output_type": "stream",
          "name": "stdout",
          "text": [
            "123   456 00789\n"
          ]
        }
      ]
    },
    {
      "cell_type": "code",
      "source": [
        "print(\"{2:d} {1:5d} {0:05d}\". format(123,456,789))"
      ],
      "metadata": {
        "colab": {
          "base_uri": "https://localhost:8080/"
        },
        "id": "GwiZZbUolBSP",
        "outputId": "7f2ce469-db06-4482-8112-ee1fe570d8d9"
      },
      "execution_count": null,
      "outputs": [
        {
          "output_type": "stream",
          "name": "stdout",
          "text": [
            "789   456 00123\n"
          ]
        }
      ]
    },
    {
      "cell_type": "code",
      "source": [
        "print(\"\\n줄 바꿈 명령\\n연습 입니다.\")"
      ],
      "metadata": {
        "colab": {
          "base_uri": "https://localhost:8080/"
        },
        "id": "LeKv8M2GlHzV",
        "outputId": "aa3d6373-290b-41d5-c703-b4417102398e"
      },
      "execution_count": null,
      "outputs": [
        {
          "output_type": "stream",
          "name": "stdout",
          "text": [
            "\n",
            "줄 바꿈 명령\n",
            "연습 입니다.\n"
          ]
        }
      ]
    },
    {
      "cell_type": "code",
      "source": [
        "print(\"\\t탭키 명령 \\t연습중입니다.\")"
      ],
      "metadata": {
        "colab": {
          "base_uri": "https://localhost:8080/"
        },
        "id": "Ig7XEVWvlX8E",
        "outputId": "e67f9389-9ffd-4d0c-fbc8-9ab38fe5bdf2"
      },
      "execution_count": null,
      "outputs": [
        {
          "output_type": "stream",
          "name": "stdout",
          "text": [
            "\t탭키 명령 \t연습중입니다.\n"
          ]
        }
      ]
    },
    {
      "cell_type": "code",
      "source": [
        "print(\"따옴표 글자가 \\\"강조\\\"되는 효과1\")\n",
        "print(\"따옴표 글자가 \\'강조\\'되는 효과2\")\n",
        "print(\"역슬레시 3개를 출력하려면 \\\\\\\\\\\\ 6개\")\n",
        "print(r\"\\n \\t \\ \\\\ \\ @를 그대로 출력\")"
      ],
      "metadata": {
        "colab": {
          "base_uri": "https://localhost:8080/"
        },
        "id": "wTAj5SeUljAI",
        "outputId": "8fa7596c-d15c-49cc-9aac-619c93d22006"
      },
      "execution_count": 16,
      "outputs": [
        {
          "output_type": "stream",
          "name": "stdout",
          "text": [
            "따옴표 글자가 \"강조\"되는 효과1\n",
            "따옴표 글자가 '강조'되는 효과2\n",
            "역슬레시 3개를 출력하려면 \\\\\\ 6개\n",
            "\\n \\t \\ \\\\ \\ @를 그대로 출력\n"
          ]
        }
      ]
    },
    {
      "cell_type": "code",
      "source": [
        "print(\"따옴표 글자가 \\\"강조\\\"되는 효과1\")\n",
        "print(\"따옴표 글자가 \\'강조\\'되는 효과2\")\n",
        "print(\"역슬래시 3개를 출력하면\")"
      ],
      "metadata": {
        "id": "kf_o2OxvoiK_"
      },
      "execution_count": null,
      "outputs": []
    },
    {
      "cell_type": "markdown",
      "source": [
        "관계 연산자"
      ],
      "metadata": {
        "id": "0a6S7joEu282"
      }
    },
    {
      "cell_type": "code",
      "source": [
        "a,b = 10,20\n",
        "print(a==b, a!=b,a>=b,a<=b,a>b,a<b)"
      ],
      "metadata": {
        "id": "XOzb9X_2urzp",
        "outputId": "fa0277fc-9f37-4b2f-e10c-6ba5fe4f881a",
        "colab": {
          "base_uri": "https://localhost:8080/"
        }
      },
      "execution_count": 17,
      "outputs": [
        {
          "output_type": "stream",
          "name": "stdout",
          "text": [
            "False True False True False True\n"
          ]
        }
      ]
    },
    {
      "cell_type": "markdown",
      "source": [
        "#### 논리 연산자 and , or ,not"
      ],
      "metadata": {
        "id": "rtIzs8bevHMk"
      }
    },
    {
      "cell_type": "code",
      "source": [
        "a= 95\n",
        "print(( a>100) and (a<200)) # 100<a<200\n",
        "print((a<100) or (a>200))  #  a<100 , a>200\n",
        "print(not(a==100))  # a<=99, a>=101"
      ],
      "metadata": {
        "id": "qQbpCdhdvLmr",
        "outputId": "b2c12535-4847-46c9-8849-a683e0365034",
        "colab": {
          "base_uri": "https://localhost:8080/"
        }
      },
      "execution_count": 21,
      "outputs": [
        {
          "output_type": "stream",
          "name": "stdout",
          "text": [
            "False\n",
            "True\n",
            "True\n"
          ]
        }
      ]
    },
    {
      "cell_type": "code",
      "source": [
        "if(10):\n",
        "   print(\"참이면 실행되어 보임\")\n",
        "if(0):\n",
        "  print(\"거짓이면 안보임\")"
      ],
      "metadata": {
        "id": "7QoSj6oEwfxW",
        "outputId": "4db66f39-8896-48de-f363-7ab98af3083d",
        "colab": {
          "base_uri": "https://localhost:8080/"
        }
      },
      "execution_count": 25,
      "outputs": [
        {
          "output_type": "stream",
          "name": "stdout",
          "text": [
            "참이면 실행되어 보임\n"
          ]
        }
      ]
    },
    {
      "cell_type": "markdown",
      "source": [
        "#### 퀴즈 2 // 몫 % 나머지 money =int(input(\"입력:\")) 지폐 금액입력 후 동전으로 교환시 (500원 , 100원, 50원 , 10원)\n",
        "money, c500, c100, c50, c10\n",
        "받은돈 : ?원원\n",
        "500원 : ?개\n",
        "100원 : ?개\n",
        "50원 : ?개\n",
        "10원 : ?개\n",
        "나머지 : ?원원"
      ],
      "metadata": {
        "id": "hHDQ4_pcxAJL"
      }
    },
    {
      "cell_type": "code",
      "source": [
        "num1 = int(input(\"금액을 넣어주세요\"))\n",
        "result = num1\n",
        "result_500  = result / 500\n",
        "result_100  = result / 100\n",
        "result_50   = result / 50 \n",
        "result_10   = result/ 10 \n",
        "result_remain = result - result_500 - result_100 - result_50 - result_10 \n",
        "\n",
        "print(\"500원 :\")"
      ],
      "metadata": {
        "id": "Vs1vmphqyR6t"
      },
      "execution_count": null,
      "outputs": []
    }
  ]
}