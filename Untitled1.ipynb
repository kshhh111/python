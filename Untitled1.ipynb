{
  "nbformat": 4,
  "nbformat_minor": 0,
  "metadata": {
    "colab": {
      "provenance": [],
      "authorship_tag": "ABX9TyMU0SiwnOOtJoEYjqiLiGBz",
      "include_colab_link": true
    },
    "kernelspec": {
      "name": "python3",
      "display_name": "Python 3"
    },
    "language_info": {
      "name": "python"
    }
  },
  "cells": [
    {
      "cell_type": "markdown",
      "metadata": {
        "id": "view-in-github",
        "colab_type": "text"
      },
      "source": [
        "<a href=\"https://colab.research.google.com/github/kshhh111/python/blob/main/Untitled1.ipynb\" target=\"_parent\"><img src=\"https://colab.research.google.com/assets/colab-badge.svg\" alt=\"Open In Colab\"/></a>"
      ]
    },
    {
      "cell_type": "markdown",
      "source": [
        "\n",
        "\n",
        "```\n",
        "# 코드로 형식 지정됨\n",
        "``` # CH1. 파이썬 문법\n",
        "## 자료형\n",
        "**숫자형**\n",
        " *정수 : 123, 456, 0, -30  \n",
        " *실수 : 12.345, -987.65 , 0.7e6   \n",
        " *8진수 : 0o765, 0o123  \n",
        " *16진수 : 0x0ㅇ, 0x0A, 0xFF  \n",
        "\n",
        "**변수** \n",
        "  *문자 또는 밑줄로 시작 (_KIM, alpha)  \n",
        "  *대소문자 구분(sum, Sum,SUM)\n",
        "  *영문자, 숫자, 밑줄(A-Z, 0-9,_)  \n",
        "  ex) sun_9, Alpha, s9n)\n",
        "  * 파이썬 키워드 (print....)  \n",
        "**표기법**   \n",
        "+ 카멜(낙타) : myName\n",
        "+ 스네이크(뱀) : my_name\n",
        "+ 파스칼 : myName\n",
        "a = 10\n",
        "b = 10\n",
        "f = \"10\"\n",
        "c = a + b\n",
        "print(a,b,c,f)\n",
        "\n"
      ],
      "metadata": {
        "id": "nEtKLL8LiGlF"
      }
    },
    {
      "cell_type": "code",
      "source": [
        "a=10\n",
        "b=3\n",
        "c = a /b\n",
        "d = a // b #몫\n",
        "e = a % b # 나머지\n",
        "print(c,d,e)"
      ],
      "metadata": {
        "colab": {
          "base_uri": "https://localhost:8080/",
          "height": 137
        },
        "id": "PWMdmmkcl0pK",
        "outputId": "9ebce373-5ab5-4869-85d6-3a6557b9a39e"
      },
      "execution_count": 8,
      "outputs": [
        {
          "output_type": "error",
          "ename": "SyntaxError",
          "evalue": "ignored",
          "traceback": [
            "\u001b[0;36m  File \u001b[0;32m\"<ipython-input-8-99ec44c999d0>\"\u001b[0;36m, line \u001b[0;32m3\u001b[0m\n\u001b[0;31m    c = a /b \\n\u001b[0m\n\u001b[0m              ^\u001b[0m\n\u001b[0;31mSyntaxError\u001b[0m\u001b[0;31m:\u001b[0m unexpected character after line continuation character\n"
          ]
        }
      ]
    },
    {
      "cell_type": "code",
      "source": [
        "#곱셈\n",
        "a = 10 \n",
        "b = 3\n",
        "c = a * b #일반 곱하기기\n",
        "d = a**b #제곱곱\n",
        "print(c,d)"
      ],
      "metadata": {
        "colab": {
          "base_uri": "https://localhost:8080/"
        },
        "id": "a-c_mKiErc0J",
        "outputId": "ea3dede3-8c4d-4f1b-8d65-635493113089"
      },
      "execution_count": 11,
      "outputs": [
        {
          "output_type": "stream",
          "name": "stdout",
          "text": [
            "30 1000\n"
          ]
        }
      ]
    },
    {
      "cell_type": "markdown",
      "source": [
        "#### 문자열 \n",
        "1. 큰따옴표 : \"WOOSEOK KIM\"\n",
        "2. 작은 따옴표 : ' WOOSEOK KIM'\n",
        "3. 큰따옴표 3개 : \"\"\"대한민국\"\"\"\n",
        "4.작은 따옴표 3개 : ''' 대한민국'''\n",
        "5. \"동해물과 백두산이 마르고 닳도록\n",
        "kim\\'s"
      ],
      "metadata": {
        "id": "0vAPjxyuroW-"
      }
    },
    {
      "cell_type": "code",
      "source": [
        "# 변수수\n",
        "myName = \"Kim Woos Seok\"\n",
        "my_name = \"김우석\"\n",
        "_my_name = \"korea\"\n",
        "MYNAME = \"코리아\"\n",
        "my2name = \"KR\"\n",
        "#2myname = \"hahaha\"\n",
        "#my-name = \"dsadas\"\n",
        "#my name = \"space\" \n",
        "myName1 = 1234\n",
        "myName2 = \"1234\"\n",
        "print(type(myName1))\n",
        "print(type(myName2))\n"
      ],
      "metadata": {
        "colab": {
          "base_uri": "https://localhost:8080/"
        },
        "id": "1BboLnblsbc9",
        "outputId": "8661c7e0-570a-4b94-f652-d7198fa6f795"
      },
      "execution_count": 14,
      "outputs": [
        {
          "output_type": "stream",
          "name": "stdout",
          "text": [
            "<class 'int'>\n",
            "<class 'str'>\n"
          ]
        }
      ]
    },
    {
      "cell_type": "code",
      "source": [],
      "metadata": {
        "id": "WKLYwsbivEaG"
      },
      "execution_count": null,
      "outputs": []
    },
    {
      "cell_type": "markdown",
      "source": [
        "#변수할당"
      ],
      "metadata": {
        "id": "qnTNtvf0vAab"
      }
    },
    {
      "cell_type": "code",
      "source": [
        "a,b,c = \"딸기\",\"포도\",\"바나나\"\n",
        "print(a)\n",
        "print(b)\n",
        "print(c)"
      ],
      "metadata": {
        "colab": {
          "base_uri": "https://localhost:8080/"
        },
        "id": "Di4nPJg4vFsT",
        "outputId": "1a41489d-bdae-4a9d-f7ef-ad61b6212e0f"
      },
      "execution_count": 16,
      "outputs": [
        {
          "output_type": "stream",
          "name": "stdout",
          "text": [
            "딸기\n",
            "포도\n",
            "바나나\n"
          ]
        }
      ]
    },
    {
      "cell_type": "markdown",
      "source": [],
      "metadata": {
        "id": "qBxYP1hiw5O4"
      }
    },
    {
      "cell_type": "code",
      "source": [
        "fruits = [\"누가바\",\"쌍쌍바\",\"보석바\"]\n",
        "x,y,z = fruits\n",
        "print(x)\n",
        "print(y)\n",
        "print(z)"
      ],
      "metadata": {
        "colab": {
          "base_uri": "https://localhost:8080/"
        },
        "id": "pR5VNE_cv7I6",
        "outputId": "927e10f7-f0e4-4dd8-d066-6aef883a1137"
      },
      "execution_count": 18,
      "outputs": [
        {
          "output_type": "stream",
          "name": "stdout",
          "text": [
            "누가바\n",
            "쌍쌍바\n",
            "보석바\n"
          ]
        }
      ]
    },
    {
      "cell_type": "code",
      "source": [
        "x = \"Life\"\n",
        "y = \" is\"\n",
        "z = \" beautiful!\"\n",
        "print (x,y,z)\n",
        "print(x+y+z)"
      ],
      "metadata": {
        "colab": {
          "base_uri": "https://localhost:8080/"
        },
        "id": "jIRtAWeXwji3",
        "outputId": "3638f3b3-1305-4a1d-989b-f873458a3f9d"
      },
      "execution_count": 20,
      "outputs": [
        {
          "output_type": "stream",
          "name": "stdout",
          "text": [
            "Life  is  beautiful!\n",
            "Life is beautiful!\n"
          ]
        }
      ]
    },
    {
      "cell_type": "code",
      "source": [
        "a = '1'\n",
        "b = '2' \n",
        "c = '3'\n",
        "print(a+b+c)\n",
        "print(a,b,c)"
      ],
      "metadata": {
        "colab": {
          "base_uri": "https://localhost:8080/"
        },
        "id": "WqSe4d2TxBil",
        "outputId": "ef6912b3-32f9-4ccc-852b-3f4a7a6a8813"
      },
      "execution_count": 23,
      "outputs": [
        {
          "output_type": "stream",
          "name": "stdout",
          "text": [
            "123\n",
            "1 2 3\n"
          ]
        }
      ]
    },
    {
      "cell_type": "code",
      "source": [
        "a=1;b=2;c=3;\n",
        "f = a+ b + \\\n",
        "c\n",
        "print(c)"
      ],
      "metadata": {
        "colab": {
          "base_uri": "https://localhost:8080/"
        },
        "id": "kMHp3iAx8hNv",
        "outputId": "14d73938-044d-47ef-896b-139e0b48f6c4"
      },
      "execution_count": 25,
      "outputs": [
        {
          "output_type": "stream",
          "name": "stdout",
          "text": [
            "3\n"
          ]
        }
      ]
    },
    {
      "cell_type": "code",
      "source": [
        "#len\n",
        "\n",
        "a = 1,2,3,4,5,6\n",
        "print(len(a))"
      ],
      "metadata": {
        "colab": {
          "base_uri": "https://localhost:8080/"
        },
        "id": "c7KcHKvy8-0o",
        "outputId": "ef21b125-0641-4de4-9911-4944d9857042"
      },
      "execution_count": 28,
      "outputs": [
        {
          "output_type": "stream",
          "name": "stdout",
          "text": [
            "6\n"
          ]
        }
      ]
    },
    {
      "cell_type": "code",
      "source": [
        "#len\n",
        "\n",
        "a = \"123456\"\n",
        "b = [2,3,4,5]\n",
        "print(len(a))\n",
        "print(len(b))"
      ],
      "metadata": {
        "colab": {
          "base_uri": "https://localhost:8080/"
        },
        "id": "ayu1fOfS9Nao",
        "outputId": "3c65c7fc-bc19-4dab-c770-2bc530d4501f"
      },
      "execution_count": 29,
      "outputs": [
        {
          "output_type": "stream",
          "name": "stdout",
          "text": [
            "6\n",
            "4\n"
          ]
        }
      ]
    },
    {
      "cell_type": "code",
      "source": [
        "a=100\n",
        "b=200\n",
        "result = a+b\n",
        "\n",
        "print( a,'+',b,'=',result)\n",
        "result= a-b\n",
        "print(a, '-', b,'=',result) \n",
        "result = a/ b\n",
        "print(a, '/', b,'=',result) \n",
        "result = a % b\n",
        "print(a, '%', b,'=',result) \n",
        "result = a * b\n",
        "print(a, 'X', b,'=',result) \n",
        "\n",
        "\n"
      ],
      "metadata": {
        "colab": {
          "base_uri": "https://localhost:8080/"
        },
        "id": "RoKtt8Xa9YMn",
        "outputId": "2bb2b647-a91f-4959-a3ce-cb98e33c7a9b"
      },
      "execution_count": 32,
      "outputs": [
        {
          "output_type": "stream",
          "name": "stdout",
          "text": [
            "100 + 200 = 300\n",
            "100 - 200 = -100\n",
            "100 / 200 = 0.5\n",
            "100 % 200 = 100\n",
            "100 X 200 = 20000\n"
          ]
        }
      ]
    },
    {
      "cell_type": "code",
      "source": [
        "a = \"1234\"\n",
        "b = 5678\n",
        "c = int(a) + b\n",
        "print(c)"
      ],
      "metadata": {
        "colab": {
          "base_uri": "https://localhost:8080/"
        },
        "id": "WUfYglEkAz2X",
        "outputId": "9ed72484-d940-465c-d3a0-4dc504b18470"
      },
      "execution_count": 34,
      "outputs": [
        {
          "output_type": "stream",
          "name": "stdout",
          "text": [
            "6912\n"
          ]
        }
      ]
    },
    {
      "cell_type": "code",
      "source": [
        "# 계산기2 \n",
        "num1 = int(input(\"숫자입력1: \"))\n",
        "num2 = int(input(\"숫자입력2: \"))\n",
        "print(type(num1))\n",
        "\n",
        "result = num1+ num2\n",
        "\n",
        "print(result)"
      ],
      "metadata": {
        "colab": {
          "base_uri": "https://localhost:8080/"
        },
        "id": "wG1ZEtFHBFVH",
        "outputId": "ef10c3dc-4d14-47c6-ef38-0c12e6544441"
      },
      "execution_count": 36,
      "outputs": [
        {
          "output_type": "stream",
          "name": "stdout",
          "text": [
            "숫자입력1: 1\n",
            "숫자입력2: 2\n",
            "<class 'int'>\n",
            "3\n"
          ]
        }
      ]
    },
    {
      "cell_type": "code",
      "source": [
        "#계산기3 \n",
        "\n",
        "num1 = int(input(\"숫자 입력1: \"))\n",
        "num2 = int(input(\"숫자 입력2: \"))\n",
        "\n",
        "result = num1 + num2 \n",
        "print( num1 '+' num2 '=' result)\n",
        "\n",
        "\n"
      ],
      "metadata": {
        "id": "B-L87gfiB_dJ"
      },
      "execution_count": null,
      "outputs": []
    },
    {
      "cell_type": "code",
      "source": [
        "char1 = input(\"자기이름: \")\n",
        "num2 = int(input(\"전화번호:  \"))\n",
        "num3 = int(input(\"택배 무게 입력: \"))\n",
        "print(type(char1))\n",
        "print(type(num1))\n",
        "print(type(num2))\n",
        "print(char1)\n",
        "print(num2) \n",
        "\n",
        "killogram = num3 * 100\n",
        "print(num3,'g', '*', 100,'원', '=', killogram,'원')"
      ],
      "metadata": {
        "colab": {
          "base_uri": "https://localhost:8080/"
        },
        "id": "ETO2hPZ9D1h3",
        "outputId": "a3d1d1c6-3d23-4e6a-9d39-4de613053a75"
      },
      "execution_count": 47,
      "outputs": [
        {
          "output_type": "stream",
          "name": "stdout",
          "text": [
            "자기이름: 김우석\n",
            "전화번호:  01051893743\n",
            "택배 무게 입력: 200\n",
            "<class 'str'>\n",
            "<class 'int'>\n",
            "<class 'int'>\n",
            "김우석\n",
            "1051893743\n",
            "200 g * 100 원 = 20000 원\n"
          ]
        }
      ]
    }
  ]
}